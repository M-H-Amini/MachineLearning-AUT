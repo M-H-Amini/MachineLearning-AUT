{
  "nbformat": 4,
  "nbformat_minor": 0,
  "metadata": {
    "colab": {
      "name": "MLe-Lec7-SingleLayerNeuralNets.ipynb",
      "provenance": [],
      "collapsed_sections": [],
      "include_colab_link": true
    },
    "kernelspec": {
      "name": "python3",
      "display_name": "Python 3"
    }
  },
  "cells": [
    {
      "cell_type": "markdown",
      "metadata": {
        "id": "view-in-github",
        "colab_type": "text"
      },
      "source": [
        "<a href=\"https://colab.research.google.com/github/M-H-Amini/MachineLearning-AUT/blob/master/MLe_Lec7_SingleLayerNeuralNets.ipynb\" target=\"_parent\"><img src=\"https://colab.research.google.com/assets/colab-badge.svg\" alt=\"Open In Colab\"/></a>"
      ]
    },
    {
      "cell_type": "markdown",
      "metadata": {
        "id": "5GBl-_XpVvNg",
        "colab_type": "text"
      },
      "source": [
        "# In The Name Of ALLAH\n",
        "# Machine Learning *elementary* Course\n",
        "## Amirkabir University of Technology\n",
        "### Mohammad Hossein Amini (mhamini@aut.ac.ir)\n",
        "# Lecture 7 - Single-Layer Perceptrons\n",
        "\n",
        "<img src=\"https://drive.google.com/uc?id=144SDpgv7EEy6Og1ZFNIv_nBaugKGiSCE\" width=\"400\">\n",
        "\n"
      ]
    },
    {
      "cell_type": "markdown",
      "metadata": {
        "id": "tJ5MPrWSWuV2",
        "colab_type": "text"
      },
      "source": [
        "# Introduction\n",
        "In this lecture, we will implement a simple **Single-Layer Perceptron** from scratch. The theoretical stuff has been discussed in the video lectures. We will use tensorflow for neural networks in the next lecture."
      ]
    },
    {
      "cell_type": "code",
      "metadata": {
        "id": "CJOsxcbrVo6Y",
        "colab_type": "code",
        "colab": {}
      },
      "source": [
        "import numpy as np\n",
        "import matplotlib.pyplot as plt"
      ],
      "execution_count": null,
      "outputs": []
    },
    {
      "cell_type": "markdown",
      "metadata": {
        "id": "z4clLWa7Xf-N",
        "colab_type": "text"
      },
      "source": [
        "# SLP Class\n",
        "We'll do whatever we need in a simple class called **SLP**."
      ]
    },
    {
      "cell_type": "code",
      "metadata": {
        "id": "wO3w5ohjXm7j",
        "colab_type": "code",
        "colab": {}
      },
      "source": [
        "class SLP:\n",
        "  def __init__(self, X, y, learning_rate = 1):\n",
        "    self.X = X  #  Each column is a sample\n",
        "    self.y = y  #  y should have 2 dimensions\n",
        "    self.W = np.zeros((self.y.shape[0], self.X.shape[0]))#np.random.rand(self.y.shape[0], self.X.shape[0])\n",
        "    self.b = np.zeros((self.y.shape[0], 1))#np.random.rand(self.y.shape[0], 1)\n",
        "    self.lr = learning_rate\n",
        "    \n",
        "  def hardlim(self, z):\n",
        "    return np.floor((1 + np.sign(z))/2)\n",
        "  \n",
        "  def train(self, iterations = 100, print_details = True):\n",
        "    counter = 0\n",
        "    for i in range(iterations):\n",
        "      if not self.check():\n",
        "        index = np.random.randint(0, self.X.shape[1])\n",
        "        prediction = self.predict(self.X[:, index : index + 1])\n",
        "        actual = self.y[:,index:index + 1]\n",
        "        error = actual - prediction\n",
        "        self.W = self.W + self.lr * error * np.transpose(self.X[:, index:index + 1])\n",
        "        self.b = self.b + self.lr * error\n",
        "        counter += 1\n",
        "      else:\n",
        "        print('Trained in {} steps!'.format(counter))\n",
        "        break\n",
        "      \n",
        "  def predict(self, x):\n",
        "    return self.hardlim(np.dot(self.W, x) + self.b)\n",
        "      \n",
        "  def check(self):\n",
        "    for i in range(self.X.shape[1]):\n",
        "      if not np.array_equal(self.predict(self.X[:, i : i+1]), self.y[:, i : i + 1]):\n",
        "        return False\n",
        "    return True"
      ],
      "execution_count": null,
      "outputs": []
    },
    {
      "cell_type": "markdown",
      "metadata": {
        "id": "KxZRdGmzIE3q",
        "colab_type": "text"
      },
      "source": [
        "# Test\n",
        "Now, we're gonna test **SLP** class as an \"AND\" and \"OR\" gate! Let's make our tiny dataset first."
      ]
    },
    {
      "cell_type": "code",
      "metadata": {
        "id": "_HGrey-kaG8E",
        "colab_type": "code",
        "colab": {}
      },
      "source": [
        "X = np.transpose(np.array([[1, 1],\n",
        "                           [1, 0],\n",
        "                           [0, 1],\n",
        "                           [0, 0]]))\n",
        "y = np.array([[1, 0, 0, 0],\n",
        "              [1, 1, 1, 0]])"
      ],
      "execution_count": null,
      "outputs": []
    },
    {
      "cell_type": "markdown",
      "metadata": {
        "id": "fiqW9SGlYc8L",
        "colab_type": "text"
      },
      "source": [
        "Using this class is super easy. Define the network in a single line and train it next."
      ]
    },
    {
      "cell_type": "code",
      "metadata": {
        "id": "buhel3zqYdQA",
        "colab_type": "code",
        "colab": {}
      },
      "source": [
        "nn = SLP(X, y)\n",
        "nn.train()"
      ],
      "execution_count": null,
      "outputs": []
    },
    {
      "cell_type": "markdown",
      "metadata": {
        "id": "V1Td37TMYnkG",
        "colab_type": "text"
      },
      "source": [
        "Let's see our performance."
      ]
    },
    {
      "cell_type": "code",
      "metadata": {
        "id": "rCfljO2zYmpo",
        "colab_type": "code",
        "colab": {}
      },
      "source": [
        "for i in range(4):\n",
        "  test_index = i\n",
        "  print('Test no: {}'.format(i + 1))\n",
        "  print('Input: ')\n",
        "  print(X[:, test_index : test_index + 1])\n",
        "  print('Actual output:')\n",
        "  print(y[:, test_index : test_index + 1])\n",
        "  print('Predicted output:')\n",
        "  print(nn.predict(X[:, test_index : test_index + 1]))\n",
        "  print(28 * '-')"
      ],
      "execution_count": null,
      "outputs": []
    },
    {
      "cell_type": "markdown",
      "metadata": {
        "id": "CflXQJ0wI1UA",
        "colab_type": "text"
      },
      "source": [
        "It's a good idea to see the decision boundary for the 'AND' output now."
      ]
    },
    {
      "cell_type": "code",
      "metadata": {
        "id": "EaCxKHCnK55W",
        "colab_type": "code",
        "colab": {}
      },
      "source": [
        "nn = SLP(X, y)\n",
        "nn.train()\n",
        "\n",
        "plt.figure()\n",
        "plt.plot(X[0, 1:], X[1, 1 :], 'ro')\n",
        "plt.plot(X[0, 0:1], X[1, 0 : 1], 'bx')\n",
        "decision_x = np.linspace(0, 1.15, 10)\n",
        "decision_y = -nn.b[0, 0]/nn.W[0, 1] - np.dot(decision_x, nn.W[0, 0]/nn.W[0, 1])\n",
        "plt.plot(decision_x, decision_y, 'g')\n",
        "plt.xlim([-0.15, 1.15])\n",
        "plt.ylim([-0.15, 1.15])\n",
        "plt.show()"
      ],
      "execution_count": null,
      "outputs": []
    },
    {
      "cell_type": "markdown",
      "metadata": {
        "id": "Oam-Ujvycggq",
        "colab_type": "text"
      },
      "source": [
        "<img src=\"https://drive.google.com/uc?id=1olt6dFh2HZ56Iu6NhHnxlSvrPW3ilODK\" width=\"350\">"
      ]
    }
  ]
}