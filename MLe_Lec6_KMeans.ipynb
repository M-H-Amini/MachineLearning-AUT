{
  "nbformat": 4,
  "nbformat_minor": 0,
  "metadata": {
    "colab": {
      "name": "MLe-Lec6-KMeans.ipynb",
      "provenance": [],
      "collapsed_sections": [],
      "toc_visible": true,
      "authorship_tag": "ABX9TyNqXF3GrzLbx0UZmxpYCcZa",
      "include_colab_link": true
    },
    "kernelspec": {
      "name": "python3",
      "display_name": "Python 3"
    }
  },
  "cells": [
    {
      "cell_type": "markdown",
      "metadata": {
        "id": "view-in-github",
        "colab_type": "text"
      },
      "source": [
        "<a href=\"https://colab.research.google.com/github/M-H-Amini/MachineLearning-AUT/blob/master/MLe_Lec6_KMeans.ipynb\" target=\"_parent\"><img src=\"https://colab.research.google.com/assets/colab-badge.svg\" alt=\"Open In Colab\"/></a>"
      ]
    },
    {
      "cell_type": "markdown",
      "metadata": {
        "id": "q5ULHCoXWjnS",
        "colab_type": "text"
      },
      "source": [
        "# In The Name Of ALLAH\n",
        "# Machine Learning *elementary* Course\n",
        "## Amirkabir University of Technology\n",
        "### Mohammad Hossein Amini (mhamini@aut.ac.ir)\n",
        "# Lecture 6 - K-Means Clustering\n",
        "\n",
        "<img src=\"https://drive.google.com/uc?id=144SDpgv7EEy6Og1ZFNIv_nBaugKGiSCE\" width=\"400\">\n",
        "\n"
      ]
    },
    {
      "cell_type": "markdown",
      "metadata": {
        "id": "VaMD26VsfSYy",
        "colab_type": "text"
      },
      "source": [
        "# Introduction\n",
        "\n",
        "The theoretical stuff has been discussed in the video lectures. Let's implement a little...\n",
        "\n",
        "We try to compress an image by applying clustering on its colors.\n",
        "\n",
        "First of all, we should import some modules."
      ]
    },
    {
      "cell_type": "code",
      "metadata": {
        "id": "YcJV02aQV4fg",
        "colab_type": "code",
        "colab": {}
      },
      "source": [
        "import numpy as np\n",
        "from sklearn.cluster import KMeans\n",
        "import matplotlib.pyplot as plt\n",
        "import cv2"
      ],
      "execution_count": 0,
      "outputs": []
    },
    {
      "cell_type": "markdown",
      "metadata": {
        "id": "CMxhnjqUfW2o",
        "colab_type": "text"
      },
      "source": [
        "Let's import the image. I use the image of my favorite professor, **Gilbert Strang**."
      ]
    },
    {
      "cell_type": "code",
      "metadata": {
        "id": "9TBZHeLbWuOr",
        "colab_type": "code",
        "colab": {}
      },
      "source": [
        "image = cv2.imread('gilbert.jpeg')\n",
        "image = cv2.cvtColor(image, cv2.COLOR_BGR2RGB)"
      ],
      "execution_count": 0,
      "outputs": []
    },
    {
      "cell_type": "code",
      "metadata": {
        "id": "nMrjhis9DMpD",
        "colab_type": "code",
        "colab": {}
      },
      "source": [
        "print(image.shape)"
      ],
      "execution_count": 0,
      "outputs": []
    },
    {
      "cell_type": "markdown",
      "metadata": {
        "id": "8ZdyTpykf2ge",
        "colab_type": "text"
      },
      "source": [
        "Now we flatten the image and see how many unique colors does it have."
      ]
    },
    {
      "cell_type": "code",
      "metadata": {
        "id": "C0EputJTf0dp",
        "colab_type": "code",
        "colab": {}
      },
      "source": [
        "colors = np.reshape(image, (image.shape[0]*image.shape[1], image.shape[2]))\n",
        "unique_colors = np.unique(colors, axis=0)\n",
        "print('No of unique colors: ', unique_colors.shape[0])"
      ],
      "execution_count": 0,
      "outputs": []
    },
    {
      "cell_type": "code",
      "metadata": {
        "id": "jAQl5dqLDytf",
        "colab_type": "code",
        "colab": {}
      },
      "source": [
        "print(colors)\n",
        "print(colors.shape)"
      ],
      "execution_count": 0,
      "outputs": []
    },
    {
      "cell_type": "markdown",
      "metadata": {
        "id": "qslI3tJGgH1d",
        "colab_type": "text"
      },
      "source": [
        "# K-Means Clustering\n",
        "\n",
        "Using and implementing K-Means Clustering is so easy in *sklearn*. Let's see."
      ]
    },
    {
      "cell_type": "code",
      "metadata": {
        "id": "5zhA2GALXPSP",
        "colab_type": "code",
        "colab": {}
      },
      "source": [
        "kmeans = KMeans(n_clusters=10, random_state=0).fit(colors)"
      ],
      "execution_count": 0,
      "outputs": []
    },
    {
      "cell_type": "markdown",
      "metadata": {
        "id": "pMcaoU6IgXaO",
        "colab_type": "text"
      },
      "source": [
        "Clustering is done! Let's see the centers and labels."
      ]
    },
    {
      "cell_type": "code",
      "metadata": {
        "id": "jjFiPrawXadj",
        "colab_type": "code",
        "colab": {}
      },
      "source": [
        "centers = kmeans.cluster_centers_.astype(np.uint8)\n",
        "labels = kmeans.labels_"
      ],
      "execution_count": 0,
      "outputs": []
    },
    {
      "cell_type": "code",
      "metadata": {
        "id": "D9KN7ITjEEe5",
        "colab_type": "code",
        "colab": {}
      },
      "source": [
        "#print(centers)\n",
        "print(labels)"
      ],
      "execution_count": 0,
      "outputs": []
    },
    {
      "cell_type": "markdown",
      "metadata": {
        "id": "jFgYyHNqgkNj",
        "colab_type": "text"
      },
      "source": [
        "# Transforming The Image\n",
        "\n",
        "Now, it only suffices to replace each color in the original image with its corresponding cluster center."
      ]
    },
    {
      "cell_type": "code",
      "metadata": {
        "id": "CgYITaJIgjHY",
        "colab_type": "code",
        "colab": {}
      },
      "source": [
        "transformed_flattened_image = np.array([centers[labels[i],:] for i in range(labels.shape[0])])\n",
        "transformed_image = np.reshape(transformed_flattened_image, (image.shape[0], image.shape[1], image.shape[2]))"
      ],
      "execution_count": 0,
      "outputs": []
    },
    {
      "cell_type": "markdown",
      "metadata": {
        "id": "vEmYQSY7g7s-",
        "colab_type": "text"
      },
      "source": [
        "Let's see what we've gained."
      ]
    },
    {
      "cell_type": "code",
      "metadata": {
        "id": "7LjGjsmCYp0K",
        "colab_type": "code",
        "colab": {}
      },
      "source": [
        "plt.figure()\n",
        "plt.imshow(transformed_image)\n",
        "plt.show()"
      ],
      "execution_count": 0,
      "outputs": []
    },
    {
      "cell_type": "markdown",
      "metadata": {
        "id": "CWXKlQG1hD7v",
        "colab_type": "text"
      },
      "source": [
        "# compress Function\n",
        "To make it simple, it's better to define a function and do all the above stuff there."
      ]
    },
    {
      "cell_type": "code",
      "metadata": {
        "id": "aDTKNlKoZDDa",
        "colab_type": "code",
        "colab": {}
      },
      "source": [
        "def compress(image_name, no_of_colors = 10):\n",
        "  image = cv2.imread(image_name)\n",
        "  image = cv2.cvtColor(image, cv2.COLOR_BGR2RGB)\n",
        "  colors = np.reshape(image, (image.shape[0]*image.shape[1], image.shape[2]))\n",
        "  kmeans = KMeans(n_clusters=no_of_colors, random_state=0).fit(colors)\n",
        "  centers = kmeans.cluster_centers_.astype(np.uint8)\n",
        "  labels = kmeans.labels_\n",
        "  transformed_flattened_image = np.array([centers[labels[i],:] for i in range(labels.shape[0])])\n",
        "  transformed_image = np.reshape(transformed_flattened_image, (image.shape[0], image.shape[1], image.shape[2]))\n",
        "  return transformed_image"
      ],
      "execution_count": 0,
      "outputs": []
    },
    {
      "cell_type": "markdown",
      "metadata": {
        "id": "vH4H5AjdhLs_",
        "colab_type": "text"
      },
      "source": [
        "Also, for the ease of use, we define **show** function."
      ]
    },
    {
      "cell_type": "code",
      "metadata": {
        "id": "aCeLgd9ZZuck",
        "colab_type": "code",
        "colab": {}
      },
      "source": [
        "def show(image, title='Image'):\n",
        "  plt.figure(figsize=(10, 8))\n",
        "  plt.imshow(image)\n",
        "  plt.title(title)\n",
        "  plt.axis('off')\n",
        "  plt.show()"
      ],
      "execution_count": 0,
      "outputs": []
    },
    {
      "cell_type": "markdown",
      "metadata": {
        "id": "Foy1Hzo8hQ8J",
        "colab_type": "text"
      },
      "source": [
        "Now, it's as simple as a single line!"
      ]
    },
    {
      "cell_type": "code",
      "metadata": {
        "id": "ZaE0oKs5Zm2u",
        "colab_type": "code",
        "colab": {}
      },
      "source": [
        "image1 = compress('gilbert.jpeg', 5)\n",
        "show(image1)\n",
        "show(image)"
      ],
      "execution_count": 0,
      "outputs": []
    },
    {
      "cell_type": "markdown",
      "metadata": {
        "id": "S6Ui4_8ChVJx",
        "colab_type": "text"
      },
      "source": [
        "# compare Function\n",
        "Finally, for the educational purpose! we define the **compare** function."
      ]
    },
    {
      "cell_type": "code",
      "metadata": {
        "id": "Da9lGwDSZ3h-",
        "colab_type": "code",
        "colab": {}
      },
      "source": [
        "def compare(image_name, no_of_colors_list = [5, 10, 15]):\n",
        "  image = cv2.imread(image_name)\n",
        "  image = cv2.cvtColor(image, cv2.COLOR_BGR2RGB)\n",
        "  plt.figure(figsize=(12, 9))\n",
        "  plt.subplot(2, 2, 1)\n",
        "  plt.imshow(image)\n",
        "  plt.title('Original')\n",
        "  plt.axis('off')\n",
        "  plt.subplot(2, 2, 2)\n",
        "  print('Compressing 1 of 3...')\n",
        "  image1 = compress(image_name, no_of_colors_list[0])\n",
        "  plt.imshow(image1)\n",
        "  plt.title('Colors: {}'.format(no_of_colors_list[0]))\n",
        "  plt.axis('off')\n",
        "  plt.subplot(2, 2, 3)\n",
        "  print('Compressing 2 of 3...')\n",
        "  image2 = compress(image_name, no_of_colors_list[1])\n",
        "  plt.imshow(image2)\n",
        "  plt.title('Colors: {}'.format(no_of_colors_list[1]))\n",
        "  plt.axis('off')\n",
        "  plt.subplot(2, 2, 4)\n",
        "  print('Compressing 3 of 3...')\n",
        "  image3 = compress(image_name, no_of_colors_list[2])\n",
        "  plt.imshow(image3)\n",
        "  plt.title('Colors: {}'.format(no_of_colors_list[2]))\n",
        "  plt.axis('off')\n",
        "  print('Compressions done!')\n",
        "  plt.show()"
      ],
      "execution_count": 0,
      "outputs": []
    },
    {
      "cell_type": "code",
      "metadata": {
        "id": "U-u49RALc2gM",
        "colab_type": "code",
        "colab": {}
      },
      "source": [
        "compare('gilbert.jpeg', [2, 10, 30])"
      ],
      "execution_count": 0,
      "outputs": []
    },
    {
      "cell_type": "code",
      "metadata": {
        "id": "HkhMtF_sE6WZ",
        "colab_type": "code",
        "colab": {}
      },
      "source": [
        ""
      ],
      "execution_count": 0,
      "outputs": []
    }
  ]
}