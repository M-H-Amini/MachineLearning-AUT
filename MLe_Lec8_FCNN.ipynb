{
  "nbformat": 4,
  "nbformat_minor": 0,
  "metadata": {
    "colab": {
      "name": "MLe-Lec8-FCNN.ipynb",
      "provenance": [],
      "collapsed_sections": [],
      "authorship_tag": "ABX9TyMqJxF2L5eKv8rarLSY3qAT",
      "include_colab_link": true
    },
    "kernelspec": {
      "name": "python3",
      "display_name": "Python 3"
    }
  },
  "cells": [
    {
      "cell_type": "markdown",
      "metadata": {
        "id": "view-in-github",
        "colab_type": "text"
      },
      "source": [
        "<a href=\"https://colab.research.google.com/github/M-H-Amini/MachineLearning-AUT/blob/master/MLe_Lec8_FCNN.ipynb\" target=\"_parent\"><img src=\"https://colab.research.google.com/assets/colab-badge.svg\" alt=\"Open In Colab\"/></a>"
      ]
    },
    {
      "cell_type": "markdown",
      "metadata": {
        "id": "7iiqkxzQguxx",
        "colab_type": "text"
      },
      "source": [
        "# In The Name Of ALLAH\n",
        "# Machine Learning *elementary* Course\n",
        "## Amirkabir University of Technology\n",
        "### Mohammad Hossein Amini (mhamini@aut.ac.ir)\n",
        "# Lecture 8 - Fully-Connected Neural Networks\n",
        "\n",
        "<img src=\"https://github.com/M-H-Amini/MachineLearning-AUT/blob/master/stuff/MLAUT.jpg?raw=true\" width=\"400\">\n",
        "\n"
      ]
    },
    {
      "cell_type": "markdown",
      "metadata": {
        "id": "SMgzrCzDmRhq",
        "colab_type": "text"
      },
      "source": [
        "# Introduction\n",
        "The theoretical stuff has been discussed in the video lectures. Let's dive into a funny example. There are 10 different types of clothes in the **Fashion MNIST** dataset. Today we would create a classifier for them using **Fully-Connected Neural Networks**. \n",
        "\n",
        "<img src=\"https://github.com/M-H-Amini/MachineLearning-AUT/blob/master/stuff/fashionMNIST.jpeg?raw=true\" width=\"400\">\n"
      ]
    },
    {
      "cell_type": "code",
      "metadata": {
        "id": "dCXQQloKgi13",
        "colab_type": "code",
        "colab": {}
      },
      "source": [
        "import tensorflow as tf\n",
        "from tensorflow import keras\n",
        "import numpy as np\n",
        "import matplotlib.pyplot as plt"
      ],
      "execution_count": null,
      "outputs": []
    },
    {
      "cell_type": "markdown",
      "metadata": {
        "id": "joBq3UM_mxtR",
        "colab_type": "text"
      },
      "source": [
        "# Loading Dataset\n",
        "Keras **datasets** has made the world easier for us today. It's better to normalize data before any processing."
      ]
    },
    {
      "cell_type": "code",
      "metadata": {
        "id": "HjmRYSPAhD1o",
        "colab_type": "code",
        "colab": {}
      },
      "source": [
        "fashion_mnist = keras.datasets.fashion_mnist\n",
        "(train_images, train_labels), (test_images, test_labels) = fashion_mnist.load_data()\n",
        "\n",
        "train_images, test_images = train_images/255., test_images/255."
      ],
      "execution_count": null,
      "outputs": []
    },
    {
      "cell_type": "code",
      "metadata": {
        "id": "FbAi0Nrf3-G6",
        "colab_type": "code",
        "colab": {}
      },
      "source": [
        "print(train_labels[0])"
      ],
      "execution_count": null,
      "outputs": []
    },
    {
      "cell_type": "markdown",
      "metadata": {
        "id": "c0KNlbP4nIvI",
        "colab_type": "text"
      },
      "source": [
        "Class names for fashion MNIST are shown below."
      ]
    },
    {
      "cell_type": "code",
      "metadata": {
        "id": "-FMecYL9hQLJ",
        "colab_type": "code",
        "colab": {}
      },
      "source": [
        "class_names = ['T-shirt/top', 'Trouser', 'Pullover', 'Dress', 'Coat',\n",
        "               'Sandal', 'Shirt', 'Sneaker', 'Bag', 'Ankle boot']"
      ],
      "execution_count": null,
      "outputs": []
    },
    {
      "cell_type": "markdown",
      "metadata": {
        "id": "VU3lCcB2nVIF",
        "colab_type": "text"
      },
      "source": [
        "# show Function\n",
        "show function is used for the representation of images and labels."
      ]
    },
    {
      "cell_type": "code",
      "metadata": {
        "id": "dH-i6BInhbK9",
        "colab_type": "code",
        "colab": {}
      },
      "source": [
        "def show(image, label):\n",
        "  plt.figure()\n",
        "  plt.imshow(image)\n",
        "  plt.axis('off')\n",
        "  plt.title(class_names[label])\n",
        "  plt.show()"
      ],
      "execution_count": null,
      "outputs": []
    },
    {
      "cell_type": "code",
      "metadata": {
        "id": "QHGVxXxWh8M1",
        "colab_type": "code",
        "colab": {}
      },
      "source": [
        "index = 256\n",
        "show(train_images[index], train_labels[index])"
      ],
      "execution_count": null,
      "outputs": []
    },
    {
      "cell_type": "markdown",
      "metadata": {
        "id": "B-apK6PvnhaY",
        "colab_type": "text"
      },
      "source": [
        "# Neural Network\n",
        "We use keras **Sequential** class in order to create ordinary neural networks. It's so fun and easy to use."
      ]
    },
    {
      "cell_type": "code",
      "metadata": {
        "id": "bechi4whiMLm",
        "colab_type": "code",
        "colab": {}
      },
      "source": [
        "model = keras.Sequential([\n",
        "                          keras.layers.Flatten(input_shape=(28, 28)),\n",
        "                          keras.layers.Dense(10, activation='softmax')\n",
        "])"
      ],
      "execution_count": null,
      "outputs": []
    },
    {
      "cell_type": "markdown",
      "metadata": {
        "id": "Widmekofn0h_",
        "colab_type": "text"
      },
      "source": [
        "Some more settings..."
      ]
    },
    {
      "cell_type": "code",
      "metadata": {
        "id": "qPR2ciQDjT-q",
        "colab_type": "code",
        "colab": {}
      },
      "source": [
        "model.compile(optimizer='adam', loss=keras.losses.SparseCategoricalCrossentropy(), metrics='accuracy')"
      ],
      "execution_count": null,
      "outputs": []
    },
    {
      "cell_type": "markdown",
      "metadata": {
        "id": "HYpQhALAn4SB",
        "colab_type": "text"
      },
      "source": [
        "## Training The Model\n",
        "To train the model, we use **fit** function."
      ]
    },
    {
      "cell_type": "code",
      "metadata": {
        "id": "xPutgSYSkbBK",
        "colab_type": "code",
        "colab": {}
      },
      "source": [
        "model.fit(train_images, train_labels, epochs=5, validation_data=(test_images, test_labels))"
      ],
      "execution_count": null,
      "outputs": []
    },
    {
      "cell_type": "markdown",
      "metadata": {
        "id": "e5sCvkSIoLIs",
        "colab_type": "text"
      },
      "source": [
        "# Evaluating The Model"
      ]
    },
    {
      "cell_type": "code",
      "metadata": {
        "id": "MkWcJYReknk8",
        "colab_type": "code",
        "colab": {}
      },
      "source": [
        "index = 10\n",
        "print(model.predict(test_images[index:index+1]))\n",
        "print(np.sum(model.predict(test_images[index:index+1])))\n",
        "predicted = np.argmax(model.predict(test_images[index:index+1]))\n",
        "print(class_names[predicted])\n",
        "show(test_images[index], predicted)"
      ],
      "execution_count": null,
      "outputs": []
    },
    {
      "cell_type": "markdown",
      "metadata": {
        "id": "w4Dfo6FwR4sK",
        "colab_type": "text"
      },
      "source": [
        "<img src=\"https://github.com/M-H-Amini/MachineLearning-AUT/blob/master/stuff/f2.jpg?raw=true\" width=\"450\">"
      ]
    }
  ]
}