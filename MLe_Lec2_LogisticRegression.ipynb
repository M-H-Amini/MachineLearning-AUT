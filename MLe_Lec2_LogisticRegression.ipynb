{
  "nbformat": 4,
  "nbformat_minor": 0,
  "metadata": {
    "colab": {
      "name": "MLe-Lec2-LogisticRegression.ipynb",
      "provenance": [],
      "collapsed_sections": [],
      "toc_visible": true,
      "authorship_tag": "ABX9TyOL/yE6Kqvl0XV/Ls3u59+U",
      "include_colab_link": true
    },
    "kernelspec": {
      "name": "python3",
      "display_name": "Python 3"
    }
  },
  "cells": [
    {
      "cell_type": "markdown",
      "metadata": {
        "id": "view-in-github",
        "colab_type": "text"
      },
      "source": [
        "<a href=\"https://colab.research.google.com/github/M-H-Amini/MachineLearning-AUT/blob/master/MLe_Lec2_LogisticRegression.ipynb\" target=\"_parent\"><img src=\"https://colab.research.google.com/assets/colab-badge.svg\" alt=\"Open In Colab\"/></a>"
      ]
    },
    {
      "cell_type": "markdown",
      "metadata": {
        "id": "HOz2-2BTKSJG",
        "colab_type": "text"
      },
      "source": [
        "# In The Name Of ALLAH\n",
        "# Machine Learning *elementary* Course\n",
        "## Amirkabir University of Technology\n",
        "### Mohammad Hossein Amini (mhamini@aut.ac.ir)\n",
        "# Lecture 2 - Logistic Regression\n",
        "\n",
        "<img src=\"https://drive.google.com/uc?id=144SDpgv7EEy6Og1ZFNIv_nBaugKGiSCE\" width=\"400\">\n",
        "\n"
      ]
    },
    {
      "cell_type": "markdown",
      "metadata": {
        "id": "jdVQTDWntkM0",
        "colab_type": "text"
      },
      "source": [
        "# Introduction\n",
        "\n",
        "The theoretical stuff has been discussed in the video lectures. Let's implement a little...\n",
        "\n",
        "First of all, we should import some modules."
      ]
    },
    {
      "cell_type": "code",
      "metadata": {
        "id": "tGuG9on8KIGf",
        "colab_type": "code",
        "outputId": "c4040414-4202-4d8a-a317-d9a6df912a16",
        "colab": {
          "base_uri": "https://localhost:8080/",
          "height": 34
        }
      },
      "source": [
        "try:\n",
        "  # %tensorflow_version only exists in Colab.\n",
        "  %tensorflow_version 2.x\n",
        "except Exception:\n",
        "  pass\n",
        "import tensorflow as tf\n",
        "print(tf.__version__)\n",
        "import numpy as np\n",
        "import matplotlib.pyplot as plt\n",
        "import pandas as pd"
      ],
      "execution_count": 0,
      "outputs": [
        {
          "output_type": "stream",
          "text": [
            "2.2.0\n"
          ],
          "name": "stdout"
        }
      ]
    },
    {
      "cell_type": "markdown",
      "metadata": {
        "id": "L6OLgydb7yBK",
        "colab_type": "text"
      },
      "source": [
        "# Discovering Sigmoid\n",
        "Let's see **sigmoid** function in action."
      ]
    },
    {
      "cell_type": "code",
      "metadata": {
        "id": "95o_uqNF75jv",
        "colab_type": "code",
        "outputId": "1e793c08-ffcd-4414-c4f8-515f9d80a1b5",
        "colab": {
          "base_uri": "https://localhost:8080/",
          "height": 312
        }
      },
      "source": [
        "def sigmoid(x):\n",
        "  return 1/(1 + np.exp(-x))\n",
        "\n",
        "\n",
        "x = np.linspace(-10, 10, 100)\n",
        "plt.figure()\n",
        "plt.plot(x, sigmoid(x), 'r')\n",
        "plt.title(r'$\\sigma (x) = \\frac{1}{1+e^{-x}} $', fontsize = 30)\n",
        "plt.show()"
      ],
      "execution_count": 0,
      "outputs": [
        {
          "output_type": "display_data",
          "data": {
            "image/png": "[encoded data removed]",
            "text/plain": [
              "<Figure size 432x288 with 1 Axes>"
            ]
          },
          "metadata": {
            "tags": [],
            "needs_background": "light"
          }
        }
      ]
    },
    {
      "cell_type": "markdown",
      "metadata": {
        "id": "TjVe4qSOEG5G",
        "colab_type": "text"
      },
      "source": [
        "<img src=\"https://drive.google.com/uc?id=1SdMUDfOhtOsfDMiDVsE4InR5fVSOAvF2\" width=\"300\">\n"
      ]
    },
    {
      "cell_type": "markdown",
      "metadata": {
        "id": "f3fGo5XZKO1F",
        "colab_type": "text"
      },
      "source": [
        "# Logistic Regression (Hand Coding!)\n",
        "Let's implement some simple examples just using **numpy**!\n",
        "\n",
        "First of all, let's create a simple dataset."
      ]
    },
    {
      "cell_type": "code",
      "metadata": {
        "id": "8EoUpLt9KRwc",
        "colab_type": "code",
        "outputId": "7be106c0-a1e3-44c7-ee2e-c35b544530d5",
        "colab": {
          "base_uri": "https://localhost:8080/",
          "height": 153
        }
      },
      "source": [
        "x = np.array([[0, 0], [0, 1], [1, 0], [1, 1]])\n",
        "y = np.array([[0], [0], [0], [1]])\n",
        "print(x)\n",
        "print(y)"
      ],
      "execution_count": 0,
      "outputs": [
        {
          "output_type": "stream",
          "text": [
            "[[0 0]\n",
            " [0 1]\n",
            " [1 0]\n",
            " [1 1]]\n",
            "[[0]\n",
            " [0]\n",
            " [0]\n",
            " [1]]\n"
          ],
          "name": "stdout"
        }
      ]
    },
    {
      "cell_type": "markdown",
      "metadata": {
        "id": "N3NIjtfwReA9",
        "colab_type": "text"
      },
      "source": [
        "A simple function to show the situation can be so helpful."
      ]
    },
    {
      "cell_type": "code",
      "metadata": {
        "id": "Zjr4hq_QKjT-",
        "colab_type": "code",
        "outputId": "d62ad6b2-a281-410f-cdef-ca1c36a96306",
        "colab": {
          "base_uri": "https://localhost:8080/",
          "height": 265
        }
      },
      "source": [
        "def show(x, y, w=None):\n",
        "  label = {0: 'ro', 1: 'bx'}\n",
        "  plt.figure()\n",
        "  for i in range(y.shape[0]):\n",
        "    plt.plot(x[i, 0], x[i, 1], label[y[i, 0]])\n",
        "  if w is not None:\n",
        "    p1 = (0, -w[0, 0]/w[2, 0])\n",
        "    p2 = (-w[0, 0]/w[1, 0], 0)\n",
        "    plt.plot([p1[0], p2[0]], [p1[1], p2[1]], 'g')\n",
        "  plt.show()\n",
        "\n",
        "w = np.array([[-0.5], [0.1], [1]])\n",
        "show(x, y, w)"
      ],
      "execution_count": 0,
      "outputs": [
        {
          "output_type": "display_data",
          "data": {
            "image/png": "[encoded data removed]",
            "text/plain": [
              "<Figure size 432x288 with 1 Axes>"
            ]
          },
          "metadata": {
            "tags": [],
            "needs_background": "light"
          }
        }
      ]
    },
    {
      "cell_type": "markdown",
      "metadata": {
        "id": "Vavx2dwsRsx5",
        "colab_type": "text"
      },
      "source": [
        "Just like the **Linear Regression** Notebook, we implement functions **h** and **train_step**."
      ]
    },
    {
      "cell_type": "code",
      "metadata": {
        "id": "x_XHV-lUMce2",
        "colab_type": "code",
        "outputId": "bd6e4cf1-ed1d-4b60-fc6f-5c67cbc31a7e",
        "colab": {
          "base_uri": "https://localhost:8080/",
          "height": 51
        }
      },
      "source": [
        "alpha = 0.1\n",
        "def h(x, w, has_bias = True):\n",
        "  if not has_bias:\n",
        "    x = np.concatenate((np.ones((x.shape[0], 1)), x), axis=1)\n",
        "  return sigmoid(np.dot(x, w))\n",
        "def train_step(x, y, w):\n",
        "  x = np.concatenate((np.ones((x.shape[0], 1)), x), axis=1)\n",
        "  w = w + alpha*np.dot(x.T , (y-h(x, w)))\n",
        "  return w\n",
        "\n",
        "print('Before: ', w.T)\n",
        "w = train_step(x[0:1, :], y[0:1, :], w)\n",
        "print('After: ', w.T)"
      ],
      "execution_count": 0,
      "outputs": [
        {
          "output_type": "stream",
          "text": [
            "Before:  [[-0.5  0.1  1. ]]\n",
            "After:  [[-0.53775407  0.1         1.        ]]\n"
          ],
          "name": "stdout"
        }
      ]
    },
    {
      "cell_type": "code",
      "metadata": {
        "id": "t6R1TzZ2z1I9",
        "colab_type": "code",
        "outputId": "95f0ccc4-3aae-45d8-b2e0-d32eb5486bb0",
        "colab": {
          "base_uri": "https://localhost:8080/",
          "height": 265
        }
      },
      "source": [
        "#index = np.random.randint(0, y.shape[0])\n",
        "alpha = 0.1\n",
        "index = 3\n",
        "w = train_step(x[index:index+1, :], y[index:index+1, :], w)\n",
        "show(x, y, w)"
      ],
      "execution_count": 0,
      "outputs": [
        {
          "output_type": "display_data",
          "data": {
            "image/png": "[encoded data removed]",
            "text/plain": [
              "<Figure size 432x288 with 1 Axes>"
            ]
          },
          "metadata": {
            "tags": [],
            "needs_background": "light"
          }
        }
      ]
    },
    {
      "cell_type": "code",
      "metadata": {
        "id": "EKHMYBKiPFO8",
        "colab_type": "code",
        "outputId": "d43cf312-0acc-4178-dd37-f8eb3245fc7d",
        "colab": {
          "base_uri": "https://localhost:8080/",
          "height": 265
        }
      },
      "source": [
        "alpha = 0.01\n",
        "for i in range(100):\n",
        "  index = np.random.randint(0, y.shape[0])\n",
        "  w = train_step(x[index:index+1, :], y[index:index+1, :], w)\n",
        "\n",
        "show(x, y, w)"
      ],
      "execution_count": 0,
      "outputs": [
        {
          "output_type": "display_data",
          "data": {
            "image/png": "[encoded data removed]",
            "text/plain": [
              "<Figure size 432x288 with 1 Axes>"
            ]
          },
          "metadata": {
            "tags": [],
            "needs_background": "light"
          }
        }
      ]
    },
    {
      "cell_type": "markdown",
      "metadata": {
        "id": "r9WtijAvtqcv",
        "colab_type": "text"
      },
      "source": [
        "# Importing Dataset\n",
        "Today, we'll be using **Heart Disease UCI** dataset. It predicts the likelihood of a patient having heart disease. Let's import it in our program."
      ]
    },
    {
      "cell_type": "code",
      "metadata": {
        "id": "tBub1acgSEOo",
        "colab_type": "code",
        "colab": {}
      },
      "source": [
        "ds = pd.read_csv('heart.csv')\n",
        "ds = ds.sample(frac=1).reset_index(drop=True)\n",
        "y = np.array(ds['target'])\n",
        "y = y[:, np.newaxis]\n",
        "ds = ds.drop(columns=['target'])\n",
        "x = np.array(ds)\n",
        "#maximum = np.array(ds.max())\n",
        "#ds = ds/maximum"
      ],
      "execution_count": 0,
      "outputs": []
    },
    {
      "cell_type": "code",
      "metadata": {
        "id": "pHI1cbbab9kd",
        "colab_type": "code",
        "colab": {}
      },
      "source": [
        "split = 0.8\n",
        "no_of_trains = int(ds.shape[0]*split)\n",
        "X_train = x[:no_of_trains, :]\n",
        "Y_train = y[:no_of_trains, :]\n",
        "X_test = x[no_of_trains:, :]\n",
        "Y_test = y[no_of_trains:, :]"
      ],
      "execution_count": 0,
      "outputs": []
    },
    {
      "cell_type": "markdown",
      "metadata": {
        "id": "l177vmFB7ZeN",
        "colab_type": "text"
      },
      "source": [
        "# Tensorflow Codes\n",
        "Our implementation in tensorflow is much like the previous session."
      ]
    },
    {
      "cell_type": "code",
      "metadata": {
        "id": "xuWzgyJ7Q7yK",
        "colab_type": "code",
        "colab": {}
      },
      "source": [
        "X = tf.constant(X_train, dtype=tf.float32)\n",
        "Y = tf.constant(Y_train, dtype=tf.float32)\n",
        "\n",
        "w = tf.Variable(np.random.randn(X.shape[1]+1, 1), dtype=tf.float32)"
      ],
      "execution_count": 0,
      "outputs": []
    },
    {
      "cell_type": "code",
      "metadata": {
        "id": "jVjLdquVOCn6",
        "colab_type": "code",
        "colab": {}
      },
      "source": [
        "def h(x, w):\n",
        "  x = tf.concat((tf.ones((x.shape[0], 1)), x), axis=1)\n",
        "  return tf.sigmoid(tf.matmul(x,w))\n",
        "\n",
        "def cost(x, y, w):\n",
        "  return tf.reduce_mean(tf.losses.binary_crossentropy(y, h(x, w)))"
      ],
      "execution_count": 0,
      "outputs": []
    },
    {
      "cell_type": "code",
      "metadata": {
        "id": "ZDrGNE9KMgai",
        "colab_type": "code",
        "outputId": "2b9a82a9-5f3e-4ef1-a382-43b566bd11d3",
        "colab": {
          "base_uri": "https://localhost:8080/",
          "height": 561
        }
      },
      "source": [
        "optimizer = tf.optimizers.Adam()\n",
        "#w = tf.Variable(np.random.randn(X.shape[1]+1, 1), dtype=tf.float32)\n",
        "w = tf.Variable(np.zeros((X.shape[1]+1, 1)), dtype=tf.float32)\n",
        "\n",
        "def train_step(x, y, w, verbose=0):\n",
        "  with tf.GradientTape() as t:\n",
        "    J = cost(x, y, w)\n",
        "  if verbose:\n",
        "    print('Loss: {}'.format(J))\n",
        "  w_grads = t.gradient(J, w)\n",
        "  optimizer.apply_gradients(zip([w_grads], [w]))\n",
        "  return w\n",
        "\n",
        "print('Before: ', w)\n",
        "w = train_step(X[index:index+1, :], Y[index:index+1, :], w, verbose = 1)\n",
        "print('After: ', w)\n",
        "print(cost(X, Y, w))"
      ],
      "execution_count": 0,
      "outputs": [
        {
          "output_type": "stream",
          "text": [
            "Before:  <tf.Variable 'Variable:0' shape=(14, 1) dtype=float32, numpy=\n",
            "array([[0.],\n",
            "       [0.],\n",
            "       [0.],\n",
            "       [0.],\n",
            "       [0.],\n",
            "       [0.],\n",
            "       [0.],\n",
            "       [0.],\n",
            "       [0.],\n",
            "       [0.],\n",
            "       [0.],\n",
            "       [0.],\n",
            "       [0.],\n",
            "       [0.]], dtype=float32)>\n",
            "Loss: 0.6931469440460205\n",
            "After:  <tf.Variable 'Variable:0' shape=(14, 1) dtype=float32, numpy=\n",
            "array([[-0.00099999],\n",
            "       [-0.001     ],\n",
            "       [-0.00099999],\n",
            "       [-0.00099999],\n",
            "       [-0.001     ],\n",
            "       [-0.001     ],\n",
            "       [ 0.        ],\n",
            "       [-0.00099999],\n",
            "       [-0.001     ],\n",
            "       [ 0.        ],\n",
            "       [-0.00099998],\n",
            "       [-0.001     ],\n",
            "       [ 0.        ],\n",
            "       [-0.001     ]], dtype=float32)>\n",
            "tf.Tensor(0.7812636, shape=(), dtype=float32)\n"
          ],
          "name": "stdout"
        }
      ]
    },
    {
      "cell_type": "markdown",
      "metadata": {
        "id": "21vhsKv1FSHY",
        "colab_type": "text"
      },
      "source": [
        "<img src=\"https://drive.google.com/uc?id=17X8qdM19JAlv53hlNJSolrRjXYfaOel-\" width=\"300\">\n"
      ]
    },
    {
      "cell_type": "code",
      "metadata": {
        "id": "2LRl5CbgVpLr",
        "colab_type": "code",
        "outputId": "e88b4e26-a987-4668-9256-2cb984a7dc71",
        "colab": {
          "base_uri": "https://localhost:8080/",
          "height": 306
        }
      },
      "source": [
        "def train(X, Y, max_iters=1000, min_cost=0.01, w=None, verbose=0):\n",
        "  if w is None:\n",
        "    w = tf.Variable(np.random.randn(X.shape[1]+1, 1), dtype=tf.float32)\n",
        "  for i in range(max_iters):\n",
        "    index = np.random.randint(0, X.shape[0])\n",
        "    w = train_step(X[index:index+1, :], Y[index:index+1, :], w)\n",
        "    if verbose:\n",
        "      print('Cost: ', cost(X, Y, w).numpy())\n",
        "  print(\"Training Done...\")\n",
        "  print(\"Cost: {}\".format(cost(X, Y, w).numpy()))\n",
        "  print(\"w = \", w)\n",
        "  return w\n",
        "\n",
        "w = train(X, Y, w=w, max_iters=1000, verbose=0)"
      ],
      "execution_count": 0,
      "outputs": [
        {
          "output_type": "stream",
          "text": [
            "Training Done...\n",
            "Cost: 0.44848954677581787\n",
            "w =  <tf.Variable 'Variable:0' shape=(14, 1) dtype=float32, numpy=\n",
            "array([[-2.29933020e-03],\n",
            "       [-1.07522318e-02],\n",
            "       [-3.18030089e-01],\n",
            "       [ 3.52607965e-01],\n",
            "       [-1.54865347e-02],\n",
            "       [-1.53558271e-04],\n",
            "       [ 1.20171964e-01],\n",
            "       [ 1.61256105e-01],\n",
            "       [ 2.62872521e-02],\n",
            "       [-3.57862085e-01],\n",
            "       [-2.99847782e-01],\n",
            "       [ 9.77056101e-02],\n",
            "       [-3.57674539e-01],\n",
            "       [-1.08083367e-01]], dtype=float32)>\n"
          ],
          "name": "stdout"
        }
      ]
    },
    {
      "cell_type": "code",
      "metadata": {
        "id": "D48ersedu_rY",
        "colab_type": "code",
        "outputId": "a27f0988-1214-4ec5-afb6-e954de2172f5",
        "colab": {
          "base_uri": "https://localhost:8080/",
          "height": 1000
        }
      },
      "source": [
        "predictions = h(X_test, w)\n",
        "for i in range(X_test.shape[0]):\n",
        "  print('No {:2}, Target: {}, Output: {:.2f}'.format(i+1, Y_test[i,0], predictions.numpy()[i,0]))"
      ],
      "execution_count": 0,
      "outputs": [
        {
          "output_type": "stream",
          "text": [
            "No  1, Target: 1, Output: 0.85\n",
            "No  2, Target: 0, Output: 0.22\n",
            "No  3, Target: 0, Output: 0.34\n",
            "No  4, Target: 0, Output: 0.38\n",
            "No  5, Target: 1, Output: 0.88\n",
            "No  6, Target: 1, Output: 0.76\n",
            "No  7, Target: 1, Output: 0.72\n",
            "No  8, Target: 1, Output: 0.90\n",
            "No  9, Target: 1, Output: 0.33\n",
            "No 10, Target: 0, Output: 0.30\n",
            "No 11, Target: 0, Output: 0.22\n",
            "No 12, Target: 1, Output: 0.69\n",
            "No 13, Target: 1, Output: 0.31\n",
            "No 14, Target: 1, Output: 0.75\n",
            "No 15, Target: 1, Output: 0.85\n",
            "No 16, Target: 0, Output: 0.13\n",
            "No 17, Target: 1, Output: 0.50\n",
            "No 18, Target: 0, Output: 0.63\n",
            "No 19, Target: 0, Output: 0.17\n",
            "No 20, Target: 0, Output: 0.25\n",
            "No 21, Target: 0, Output: 0.45\n",
            "No 22, Target: 0, Output: 0.84\n",
            "No 23, Target: 1, Output: 0.71\n",
            "No 24, Target: 0, Output: 0.52\n",
            "No 25, Target: 0, Output: 0.85\n",
            "No 26, Target: 0, Output: 0.07\n",
            "No 27, Target: 0, Output: 0.22\n",
            "No 28, Target: 0, Output: 0.43\n",
            "No 29, Target: 1, Output: 0.79\n",
            "No 30, Target: 0, Output: 0.34\n",
            "No 31, Target: 0, Output: 0.14\n",
            "No 32, Target: 0, Output: 0.06\n",
            "No 33, Target: 1, Output: 0.74\n",
            "No 34, Target: 0, Output: 0.15\n",
            "No 35, Target: 0, Output: 0.34\n",
            "No 36, Target: 0, Output: 0.35\n",
            "No 37, Target: 1, Output: 0.79\n",
            "No 38, Target: 0, Output: 0.66\n",
            "No 39, Target: 0, Output: 0.58\n",
            "No 40, Target: 1, Output: 0.87\n",
            "No 41, Target: 1, Output: 0.91\n",
            "No 42, Target: 0, Output: 0.73\n",
            "No 43, Target: 1, Output: 0.70\n",
            "No 44, Target: 1, Output: 0.71\n",
            "No 45, Target: 1, Output: 0.92\n",
            "No 46, Target: 1, Output: 0.74\n",
            "No 47, Target: 0, Output: 0.25\n",
            "No 48, Target: 0, Output: 0.66\n",
            "No 49, Target: 0, Output: 0.79\n",
            "No 50, Target: 0, Output: 0.72\n",
            "No 51, Target: 0, Output: 0.16\n",
            "No 52, Target: 0, Output: 0.40\n",
            "No 53, Target: 0, Output: 0.35\n",
            "No 54, Target: 0, Output: 0.34\n",
            "No 55, Target: 1, Output: 0.76\n",
            "No 56, Target: 1, Output: 0.77\n",
            "No 57, Target: 0, Output: 0.63\n",
            "No 58, Target: 1, Output: 0.86\n",
            "No 59, Target: 0, Output: 0.17\n",
            "No 60, Target: 1, Output: 0.96\n",
            "No 61, Target: 1, Output: 0.88\n"
          ],
          "name": "stdout"
        }
      ]
    },
    {
      "cell_type": "code",
      "metadata": {
        "id": "duYF5G0I2y_O",
        "colab_type": "code",
        "colab": {}
      },
      "source": [
        ""
      ],
      "execution_count": 0,
      "outputs": []
    }
  ]
}