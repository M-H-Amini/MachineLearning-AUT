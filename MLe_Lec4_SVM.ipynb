{
  "nbformat": 4,
  "nbformat_minor": 0,
  "metadata": {
    "colab": {
      "name": "MLe-Lec4-SVM.ipynb",
      "provenance": [],
      "collapsed_sections": [],
      "authorship_tag": "ABX9TyOridJMMMNGybrccTp1+jtr",
      "include_colab_link": true
    },
    "kernelspec": {
      "name": "python3",
      "display_name": "Python 3"
    }
  },
  "cells": [
    {
      "cell_type": "markdown",
      "metadata": {
        "id": "view-in-github",
        "colab_type": "text"
      },
      "source": [
        "<a href=\"https://colab.research.google.com/github/M-H-Amini/MachineLearning-AUT/blob/master/MLe_Lec4_SVM.ipynb\" target=\"_parent\"><img src=\"https://colab.research.google.com/assets/colab-badge.svg\" alt=\"Open In Colab\"/></a>"
      ]
    },
    {
      "cell_type": "markdown",
      "metadata": {
        "id": "Cm-1r1Ns7Hg0",
        "colab_type": "text"
      },
      "source": [
        "# In The Name Of ALLAH\n",
        "# Machine Learning *elementary* Course\n",
        "## Amirkabir University of Technology\n",
        "### Mohammad Hossein Amini (mhamini@aut.ac.ir)\n",
        "# Lecture 4 - Support Vector Machines\n",
        "\n",
        "<img src=\"https://drive.google.com/uc?id=144SDpgv7EEy6Og1ZFNIv_nBaugKGiSCE\" width=\"400\">\n",
        "\n"
      ]
    },
    {
      "cell_type": "markdown",
      "metadata": {
        "id": "pc4QTjIMBasO",
        "colab_type": "text"
      },
      "source": [
        "# Introduction\n",
        "\n",
        "The theoretical stuff has been discussed in the video lectures. Let's implement a little...\n",
        "\n",
        "First of all, we should import some modules."
      ]
    },
    {
      "cell_type": "code",
      "metadata": {
        "id": "I9JwkMSK7GMV",
        "colab_type": "code",
        "colab": {}
      },
      "source": [
        "import numpy as np\n",
        "import matplotlib.pyplot as plt\n",
        "import pandas as pd\n",
        "from sklearn import svm"
      ],
      "execution_count": 0,
      "outputs": []
    },
    {
      "cell_type": "markdown",
      "metadata": {
        "id": "z2dfprT1BcCf",
        "colab_type": "text"
      },
      "source": [
        "Let's see how SVM works on the **Hear Disease** dataset first."
      ]
    },
    {
      "cell_type": "markdown",
      "metadata": {
        "id": "-7WVbmJFOKq4",
        "colab_type": "text"
      },
      "source": [
        "# Heart Disease Dataset"
      ]
    },
    {
      "cell_type": "code",
      "metadata": {
        "id": "pcU3Y1fHOK5d",
        "colab_type": "code",
        "colab": {}
      },
      "source": [
        "ds = pd.read_csv('heart.csv')\n",
        "ds = ds.sample(frac=1).reset_index(drop=True)\n",
        "a = pd.get_dummies(ds['cp'], prefix = \"cp\")\n",
        "b = pd.get_dummies(ds['thal'], prefix = \"thal\")\n",
        "c = pd.get_dummies(ds['slope'], prefix = \"slope\")\n",
        "frames = [ds, a, b, c]\n",
        "ds = pd.concat(frames, axis = 1)\n",
        "ds = ds.drop(columns=['cp', 'thal', 'slope'])\n",
        "y = np.array(ds['target'])\n",
        "y = y[:, np.newaxis]\n",
        "ds = ds.drop(columns=['target'])\n",
        "x = np.array(ds)\n",
        "\n",
        "split = 0.8\n",
        "no_of_trains = int(ds.shape[0]*split)\n",
        "X_train = x[:no_of_trains, :]\n",
        "Y_train = y[:no_of_trains, :]\n",
        "X_test = x[no_of_trains:, :]\n",
        "Y_test = y[no_of_trains:, :]"
      ],
      "execution_count": 0,
      "outputs": []
    },
    {
      "cell_type": "code",
      "metadata": {
        "id": "wD4-IN73Qa02",
        "colab_type": "code",
        "colab": {}
      },
      "source": [
        "ds.head()"
      ],
      "execution_count": 0,
      "outputs": []
    },
    {
      "cell_type": "code",
      "metadata": {
        "id": "-wKfpnNWObLn",
        "colab_type": "code",
        "colab": {}
      },
      "source": [
        "model = svm.SVC(degree=5 , C = 1000, kernel='poly')\n",
        "model.fit(X_train, Y_train[:,0])"
      ],
      "execution_count": 0,
      "outputs": []
    },
    {
      "cell_type": "code",
      "metadata": {
        "id": "ClenkOzXOtcx",
        "colab_type": "code",
        "colab": {}
      },
      "source": [
        "predicted = model.predict(X_test)"
      ],
      "execution_count": 0,
      "outputs": []
    },
    {
      "cell_type": "code",
      "metadata": {
        "id": "yAWfwhCLPDQK",
        "colab_type": "code",
        "colab": {}
      },
      "source": [
        "def evaluate(x, y, show=True):\n",
        "  wrongs = 0\n",
        "  corrects = 0\n",
        "  predicted = model.predict(x)\n",
        "  for i in range(y.shape[0]):\n",
        "    if show:\n",
        "      print(f'No {i+1}, Target: {y[i, 0]}, Predicted: {predicted[i]}')\n",
        "    if y[i, 0] == predicted[i]:\n",
        "      corrects += 1\n",
        "    else:\n",
        "      wrongs += 1\n",
        "  print(f'Corrects: {corrects}, Wrongs: {wrongs}')\n",
        "  return corrects/y.shape[0], wrongs/y.shape[0]"
      ],
      "execution_count": 0,
      "outputs": []
    },
    {
      "cell_type": "code",
      "metadata": {
        "id": "-D0y5AiZQDUq",
        "colab_type": "code",
        "colab": {}
      },
      "source": [
        "evaluate(X_test, Y_test)"
      ],
      "execution_count": 0,
      "outputs": []
    },
    {
      "cell_type": "markdown",
      "metadata": {
        "id": "tChRPD8fNKC7",
        "colab_type": "text"
      },
      "source": [
        "<img src=\"https://drive.google.com/uc?id=1J3RkCDoaa87BfIfhuKUSjoJuqVe5wzUz\" width=\"350\">\n",
        "\n"
      ]
    },
    {
      "cell_type": "markdown",
      "metadata": {
        "id": "T7JrvcES9lFt",
        "colab_type": "text"
      },
      "source": [
        "# MNIST Handwritten Digits\n",
        "\n",
        "A famous dataset in machine learning and deep learning is the *MNIST Handwritten Digits*. It's a collection of about 60000 handwritten digits labeled. One of the ways of comparing different learning algorithms is to evaluate their performance on MNIST dataset.\n",
        "\n",
        "<img src=\"https://drive.google.com/uc?id=1WXwOzPYIbfVjKA2ArA2yJz-lLp9DaJ2n\" width=\"300\">\n"
      ]
    },
    {
      "cell_type": "markdown",
      "metadata": {
        "id": "hFtHl-nMKePz",
        "colab_type": "text"
      },
      "source": [
        "First of all, let's import the tiny version of this dataset on colab."
      ]
    },
    {
      "cell_type": "code",
      "metadata": {
        "id": "WOBgTKlS9odT",
        "colab_type": "code",
        "colab": {}
      },
      "source": [
        "mnist_train = pd.read_csv('sample_data/mnist_train_small.csv')\n",
        "mnist_test = pd.read_csv('sample_data/mnist_test.csv')"
      ],
      "execution_count": 0,
      "outputs": []
    },
    {
      "cell_type": "code",
      "metadata": {
        "id": "q14fBjSX6_nY",
        "colab_type": "code",
        "colab": {}
      },
      "source": [
        "mnist_train.head()"
      ],
      "execution_count": 0,
      "outputs": []
    },
    {
      "cell_type": "markdown",
      "metadata": {
        "id": "oSOqSzEHKrIB",
        "colab_type": "text"
      },
      "source": [
        "The first column of the dataset is the target. So we take the first column as our target take the others as the input."
      ]
    },
    {
      "cell_type": "code",
      "metadata": {
        "id": "WZUExQbJ91mp",
        "colab_type": "code",
        "colab": {}
      },
      "source": [
        "inputs_train = mnist_train.drop(columns=mnist_train.columns[0])\n",
        "targets_train = mnist_train[mnist_train.columns[0]]\n",
        "inputs_test = mnist_test.drop(columns=mnist_test.columns[0])\n",
        "targets_test = mnist_test[mnist_test.columns[0]]"
      ],
      "execution_count": 0,
      "outputs": []
    },
    {
      "cell_type": "code",
      "metadata": {
        "id": "XrtzRkekBUe6",
        "colab_type": "code",
        "colab": {}
      },
      "source": [
        "inputs_train_arr = np.array(inputs_train)\n",
        "targets_train_arr = np.array(targets_train)\n",
        "inputs_test_arr = np.array(inputs_test)\n",
        "targets_test_arr = np.array(targets_test)"
      ],
      "execution_count": 0,
      "outputs": []
    },
    {
      "cell_type": "markdown",
      "metadata": {
        "id": "ZGoqxHx9LCKF",
        "colab_type": "text"
      },
      "source": [
        "It's a good idea to have a function for showing each digit."
      ]
    },
    {
      "cell_type": "code",
      "metadata": {
        "id": "ox4lH-aFBBGl",
        "colab_type": "code",
        "colab": {}
      },
      "source": [
        "def showDigit(image, target, predicted=None):\n",
        "  image = np.reshape(image, (28, 28))\n",
        "  plt.figure()\n",
        "  if predicted is not None:\n",
        "    plt.title(f'Target: {target}, Predicted: {predicted}')\n",
        "  else:\n",
        "    plt.title(f'Target: {target}')\n",
        "  plt.imshow(image)\n",
        "  plt.show()\n",
        "\n",
        "index = 0\n",
        "showDigit(inputs_train_arr[index], targets_train_arr[index])"
      ],
      "execution_count": 0,
      "outputs": []
    },
    {
      "cell_type": "markdown",
      "metadata": {
        "id": "k17LQbXDLJjZ",
        "colab_type": "text"
      },
      "source": [
        "Time to create our *SVM* model and train it. We use Gaussian kernel for it."
      ]
    },
    {
      "cell_type": "code",
      "metadata": {
        "id": "ZUZRvMNbCEeJ",
        "colab_type": "code",
        "colab": {}
      },
      "source": [
        "model = svm.SVC(kernel = 'rbf', C=100)\n",
        "model.fit(inputs_train_arr, targets_train_arr)"
      ],
      "execution_count": 0,
      "outputs": []
    },
    {
      "cell_type": "code",
      "metadata": {
        "id": "ZxI0nmVULcu2",
        "colab_type": "code",
        "colab": {}
      },
      "source": [
        "index = 15\n",
        "predicted = model.predict(inputs_test_arr[index:index+1, :])\n",
        "showDigit(inputs_test_arr[index], targets_test_arr[index], predicted)\n"
      ],
      "execution_count": 0,
      "outputs": []
    },
    {
      "cell_type": "markdown",
      "metadata": {
        "id": "chWLfQH3Ld2R",
        "colab_type": "text"
      },
      "source": [
        "Finally, let's see our performance."
      ]
    },
    {
      "cell_type": "code",
      "metadata": {
        "id": "igDSduopFmeT",
        "colab_type": "code",
        "colab": {}
      },
      "source": [
        "predicted = model.predict(inputs_test_arr)\n",
        "corrects = 0\n",
        "wrongs = 0\n",
        "for i in range(inputs_test_arr.shape[0]):\n",
        "  if predicted[i] == targets_test_arr[i]:\n",
        "    corrects += 1\n",
        "  else:\n",
        "    wrongs += 1\n",
        "\n",
        "print(f'Corrects: {corrects}, Wrongs: {wrongs}')\n",
        "print(f'Accuracy: {corrects/(corrects+wrongs)}')"
      ],
      "execution_count": 0,
      "outputs": []
    }
  ]
}