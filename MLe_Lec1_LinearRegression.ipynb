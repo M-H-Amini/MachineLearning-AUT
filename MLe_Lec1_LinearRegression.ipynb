{
  "nbformat": 4,
  "nbformat_minor": 0,
  "metadata": {
    "colab": {
      "name": "MLe-Lec1-LinearRegression.ipynb",
      "provenance": [],
      "collapsed_sections": [],
      "authorship_tag": "ABX9TyPy93z4wXYKfsAeg7mdrKJW",
      "include_colab_link": true
    },
    "kernelspec": {
      "name": "python3",
      "display_name": "Python 3"
    }
  },
  "cells": [
    {
      "cell_type": "markdown",
      "metadata": {
        "id": "view-in-github",
        "colab_type": "text"
      },
      "source": [
        "<a href=\"https://colab.research.google.com/github/M-H-Amini/MachineLearning-AUT/blob/master/MLe_Lec1_LinearRegression.ipynb\" target=\"_parent\"><img src=\"https://colab.research.google.com/assets/colab-badge.svg\" alt=\"Open In Colab\"/></a>"
      ]
    },
    {
      "cell_type": "markdown",
      "metadata": {
        "id": "KXO2Fa0YBjB5",
        "colab_type": "text"
      },
      "source": [
        "# In The Name Of ALLAH\n",
        "# Machine Learning *elementary* Course\n",
        "## Amirkabir University of Technology\n",
        "### Mohammad Hossein Amini (mhamini@aut.ac.ir)\n",
        "# Lecture 1 - Linear Regression\n",
        "\n",
        "<img src=\"https://drive.google.com/uc?id=144SDpgv7EEy6Og1ZFNIv_nBaugKGiSCE\" width=\"400\">\n",
        "\n"
      ]
    },
    {
      "cell_type": "markdown",
      "metadata": {
        "id": "IljETY4yFS5a",
        "colab_type": "text"
      },
      "source": [
        "# Introduction\n",
        "\n",
        "The theoretical stuff has been discussed in the video lectures. Let's implement a little...\n",
        "\n",
        "First of all, we should import some modules."
      ]
    },
    {
      "cell_type": "code",
      "metadata": {
        "id": "O9sWGnzX1xNw",
        "colab_type": "code",
        "outputId": "178d6b40-07bd-4613-9bc5-38bce550bd47",
        "colab": {
          "base_uri": "https://localhost:8080/",
          "height": 34
        }
      },
      "source": [
        "try:\n",
        "  # %tensorflow_version only exists in Colab.\n",
        "  %tensorflow_version 2.x\n",
        "except Exception:\n",
        "  pass\n",
        "import tensorflow as tf\n",
        "print(tf.__version__)\n",
        "import numpy as np\n",
        "import matplotlib.pyplot as plt\n",
        "import pandas as pd"
      ],
      "execution_count": 1,
      "outputs": [
        {
          "output_type": "stream",
          "text": [
            "2.2.0\n"
          ],
          "name": "stdout"
        }
      ]
    },
    {
      "cell_type": "markdown",
      "metadata": {
        "id": "pOo1VsyEBkcZ",
        "colab_type": "text"
      },
      "source": [
        "# Creating Dataset"
      ]
    },
    {
      "cell_type": "markdown",
      "metadata": {
        "id": "9qc9FMDVpvls",
        "colab_type": "text"
      },
      "source": [
        "Let's create a simple one dimensional dataset..."
      ]
    },
    {
      "cell_type": "code",
      "metadata": {
        "id": "o0ltTDTTAn5j",
        "colab_type": "code",
        "colab": {}
      },
      "source": [
        "x = np.array([np.linspace(10, 50, 15)])\n",
        "y = 2 + 1.5 * x +  10 * np.random.normal(0, 1, x.shape)"
      ],
      "execution_count": 0,
      "outputs": []
    },
    {
      "cell_type": "code",
      "metadata": {
        "id": "rz-SKelkBFx2",
        "colab_type": "code",
        "outputId": "63cfb2ab-3065-4789-a38e-a895bd2e75d1",
        "colab": {
          "base_uri": "https://localhost:8080/",
          "height": 265
        }
      },
      "source": [
        "plt.figure()\n",
        "plt.plot(x, y, 'rx')\n",
        "plt.show()"
      ],
      "execution_count": 3,
      "outputs": [
        {
          "output_type": "display_data",
          "data": {
            "image/png": "[encoded data removed]",
            "text/plain": [
              "<Figure size 432x288 with 1 Axes>"
            ]
          },
          "metadata": {
            "tags": [],
            "needs_background": "light"
          }
        }
      ]
    },
    {
      "cell_type": "markdown",
      "metadata": {
        "id": "DAdoekrHBxhi",
        "colab_type": "text"
      },
      "source": [
        "# Linear Regression (Hand Coding!)\n",
        "Now, we implement our estimator just using **numpy**. In this method, we implement gradients calculation and weight updates (gradient descent) by hand!\n",
        "\n",
        "Let's implement estimator (hypothesis) function."
      ]
    },
    {
      "cell_type": "code",
      "metadata": {
        "id": "LNAw7Z2pBdJU",
        "colab_type": "code",
        "outputId": "a7f1d5b4-a1d3-4494-edd5-9769517dbd93",
        "colab": {
          "base_uri": "https://localhost:8080/",
          "height": 34
        }
      },
      "source": [
        "def h(x, w, has_bias=False):\n",
        "  if not has_bias:\n",
        "    x = np.concatenate((np.ones((1, x.shape[1])) ,x))\n",
        "  return np.dot(np.transpose(w), x)\n",
        "\n",
        "w = np.array([[1], [0.5]])\n",
        "print(h(np.array([[1]]), w))"
      ],
      "execution_count": 6,
      "outputs": [
        {
          "output_type": "stream",
          "text": [
            "[[1.5]]\n"
          ],
          "name": "stdout"
        }
      ]
    },
    {
      "cell_type": "markdown",
      "metadata": {
        "id": "ZiftUlS5Hd3R",
        "colab_type": "text"
      },
      "source": [
        "## Visualizing Data and Estimator Result\n",
        "It is exciting to see the performance with a simple function."
      ]
    },
    {
      "cell_type": "code",
      "metadata": {
        "id": "Q3adT50oHsab",
        "colab_type": "code",
        "colab": {
          "base_uri": "https://localhost:8080/",
          "height": 265
        },
        "outputId": "67652267-2e12-4560-9237-12eecfcdddcb"
      },
      "source": [
        "def show(x, y, w):\n",
        "  predicted = h(x, w)\n",
        "  plt.figure()\n",
        "  plt.plot(x[0:1,:], y, 'rx')\n",
        "  plt.plot(x[0], predicted[0], 'b-')\n",
        "  plt.show()\n",
        "\n",
        "w = np.array([[20], [2]])\n",
        "show(x, y, w)"
      ],
      "execution_count": 7,
      "outputs": [
        {
          "output_type": "display_data",
          "data": {
            "image/png": "[encoded data removed]",
            "text/plain": [
              "<Figure size 432x288 with 1 Axes>"
            ]
          },
          "metadata": {
            "tags": [],
            "needs_background": "light"
          }
        }
      ]
    },
    {
      "cell_type": "code",
      "metadata": {
        "id": "XN6ilNiRCavp",
        "colab_type": "code",
        "colab": {
          "base_uri": "https://localhost:8080/",
          "height": 68
        },
        "outputId": "c407c960-ff55-4acb-b122-d0505552570f"
      },
      "source": [
        "alpha = 0.0001\n",
        "\n",
        "def train_step(x, y, w):\n",
        "  x = np.concatenate((np.ones((1, x.shape[1])) ,x))\n",
        "  delta_w = -np.dot(x, np.transpose(y - h(x, w, True)))\n",
        "  w = w - alpha * delta_w\n",
        "  return w\n",
        "\n",
        "def cost(x, y, w):\n",
        "  return float(np.dot(y - h(x, w),np.transpose(y - h(x, w))) / (2*y.shape[1]))\n",
        "\n",
        "def train(x, y, max_iters=1000, min_cost=0.1, w=None, verbose=0):\n",
        "  if w is None:\n",
        "    w = np.random.rand(2, 1)\n",
        "  for i in range(max_iters):\n",
        "    index = np.random.randint(0, x.shape[1])\n",
        "    w = train_step(x[:, index:index+1], y[:, index:index+1], w)\n",
        "    if cost(x, y, w) < min_cost:\n",
        "      break\n",
        "    if verbose:\n",
        "      print('Iteration {}: W = '.format(i+1),np.transpose(w), 'Cost = ', cost(x, y, w))\n",
        "  print(\"Training Done...\")\n",
        "  print(\"Cost: {}\".format(cost(x, y, w)))\n",
        "  print(\"w = \", w.T)\n",
        "  return w\n",
        "\n",
        "w = train(x, y, max_iters=1000, min_cost=10 ,verbose=0)"
      ],
      "execution_count": 8,
      "outputs": [
        {
          "output_type": "stream",
          "text": [
            "Training Done...\n",
            "Cost: 66.39774616140136\n",
            "w =  [[0.87131439 1.46043032]]\n"
          ],
          "name": "stdout"
        }
      ]
    },
    {
      "cell_type": "markdown",
      "metadata": {
        "id": "xRuSuINcL8MF",
        "colab_type": "text"
      },
      "source": [
        "## Visualizing Performance\n",
        "Let's see the result."
      ]
    },
    {
      "cell_type": "code",
      "metadata": {
        "id": "2bMbot_eL7iX",
        "colab_type": "code",
        "colab": {
          "base_uri": "https://localhost:8080/",
          "height": 520
        },
        "outputId": "4d980106-6745-40ff-977a-5939bf8ca798"
      },
      "source": [
        "for i in range(x.shape[1]):\n",
        "  print('Input: {:5.3f}, Target: {:5.3f}, Output: {:5.3f}'.format(x[:,i:i+1][0][0], y[:, i:i+1][0][0], h(x[:, i:i+1], w)[0][0]))\n",
        "\n",
        "show(x, y, w)"
      ],
      "execution_count": 9,
      "outputs": [
        {
          "output_type": "stream",
          "text": [
            "Input: 10.000, Target: 2.514, Output: 15.476\n",
            "Input: 12.857, Target: 26.223, Output: 19.648\n",
            "Input: 15.714, Target: 12.087, Output: 23.821\n",
            "Input: 18.571, Target: 31.256, Output: 27.994\n",
            "Input: 21.429, Target: 35.048, Output: 32.166\n",
            "Input: 24.286, Target: 38.503, Output: 36.339\n",
            "Input: 27.143, Target: 41.474, Output: 40.512\n",
            "Input: 30.000, Target: 63.471, Output: 44.684\n",
            "Input: 32.857, Target: 63.802, Output: 48.857\n",
            "Input: 35.714, Target: 62.695, Output: 53.030\n",
            "Input: 38.571, Target: 62.758, Output: 57.202\n",
            "Input: 41.429, Target: 34.141, Output: 61.375\n",
            "Input: 44.286, Target: 69.067, Output: 65.548\n",
            "Input: 47.143, Target: 76.049, Output: 69.720\n",
            "Input: 50.000, Target: 85.019, Output: 73.893\n"
          ],
          "name": "stdout"
        },
        {
          "output_type": "display_data",
          "data": {
            "image/png": "[encoded data removed]",
            "text/plain": [
              "<Figure size 432x288 with 1 Axes>"
            ]
          },
          "metadata": {
            "tags": [],
            "needs_background": "light"
          }
        }
      ]
    },
    {
      "cell_type": "markdown",
      "metadata": {
        "id": "qMMiyIS0Pc9I",
        "colab_type": "text"
      },
      "source": [
        "<img src=\"https://drive.google.com/uc?id=1kZYpzQKiV95eL6EZHL_CaE0Ca49MkLPO\" width=\"400\">\n"
      ]
    },
    {
      "cell_type": "markdown",
      "metadata": {
        "id": "YLpibBqSAxd3",
        "colab_type": "text"
      },
      "source": [
        "# Normal Equation\n",
        "Use of normal equation, wherever possible, makes our life a lot easier! The main reason is that it is not an iterative method. You get the minimum in a few computations, instead of (maybe) thousands of iterations of last method. \n"
      ]
    },
    {
      "cell_type": "code",
      "metadata": {
        "id": "Y7RT_0YBAwv5",
        "colab_type": "code",
        "colab": {
          "base_uri": "https://localhost:8080/",
          "height": 265
        },
        "outputId": "35ea6b2c-652a-4219-e765-977a1e7510e6"
      },
      "source": [
        "def findWeights(x, y):\n",
        "  x = np.transpose(np.concatenate((np.ones((1, x.shape[1])),x)))\n",
        "  y = np.transpose(y)\n",
        "  w = np.dot(np.dot(np.linalg.inv(np.dot(x.T, x)), x.T), y)\n",
        "  return w\n",
        "\n",
        "w = np.random.rand(2,1)\n",
        "w = findWeights(x, y)\n",
        "show(x, y, w)\n"
      ],
      "execution_count": 10,
      "outputs": [
        {
          "output_type": "display_data",
          "data": {
            "image/png": "[encoded data removed]",
            "text/plain": [
              "<Figure size 432x288 with 1 Axes>"
            ]
          },
          "metadata": {
            "tags": [],
            "needs_background": "light"
          }
        }
      ]
    },
    {
      "cell_type": "markdown",
      "metadata": {
        "id": "HSN6yxUvC3iI",
        "colab_type": "text"
      },
      "source": [
        "# Polynomial Regression"
      ]
    },
    {
      "cell_type": "code",
      "metadata": {
        "id": "dREZiHiRDVMf",
        "colab_type": "code",
        "colab": {
          "base_uri": "https://localhost:8080/",
          "height": 285
        },
        "outputId": "7a9fe4d5-078c-47b8-93c0-16bc3ad82b4a"
      },
      "source": [
        "xx = np.array([np.linspace(-10, 10, 50)])\n",
        "yy = xx + 0.1*np.power(xx,2) + np.sin(xx) + np.random.randn(*xx.shape)\n",
        "w = np.array([[0],[0],[0],[0]])\n",
        "\n",
        "xxx = np.concatenate((xx, np.power(xx, 2), np.sin(xx)))\n",
        "print(xxx.shape, yy.shape)\n",
        "w = findWeights(xxx, yy)\n",
        "show(xxx, yy, w)\n"
      ],
      "execution_count": 11,
      "outputs": [
        {
          "output_type": "stream",
          "text": [
            "(3, 50) (1, 50)\n"
          ],
          "name": "stdout"
        },
        {
          "output_type": "display_data",
          "data": {
            "image/png": "[encoded data removed]",
            "text/plain": [
              "<Figure size 432x288 with 1 Axes>"
            ]
          },
          "metadata": {
            "tags": [],
            "needs_background": "light"
          }
        }
      ]
    },
    {
      "cell_type": "markdown",
      "metadata": {
        "id": "lnuj_ynMPyvZ",
        "colab_type": "text"
      },
      "source": [
        "<img src=\"https://drive.google.com/uc?id=12Ain53U4GehBQgCzY0AKtAtG6kkyfhc0\" width=\"600\">\n"
      ]
    },
    {
      "cell_type": "markdown",
      "metadata": {
        "id": "s3FPGceXGn8V",
        "colab_type": "text"
      },
      "source": [
        "# Tensorflow Intro\n",
        "Let's explore tensorflow a little bit."
      ]
    },
    {
      "cell_type": "code",
      "metadata": {
        "id": "9oe2wycEKild",
        "colab_type": "code",
        "colab": {
          "base_uri": "https://localhost:8080/",
          "height": 34
        },
        "outputId": "e18e649a-157b-4a0a-f7f2-e0a7c35bfcc7"
      },
      "source": [
        "def f(x):\n",
        "  return tf.pow(x, 2)\n",
        "\n",
        "#optimizer = tf.optimizers.SGD(learning_rate=0.1)\n",
        "optimizer = tf.optimizers.Adam(learning_rate=1.5)\n",
        "\n",
        "x0 = tf.Variable(5.)\n",
        "\n",
        "def minimize_step(f, x0):\n",
        "  with tf.GradientTape() as g:\n",
        "    val = f(x0)\n",
        "  grads = g.gradient(val, x0)\n",
        "  optimizer.apply_gradients(zip([grads], [x0]))\n",
        "  return x0\n",
        "\n",
        "for i in range(100):\n",
        "  x0 = minimize_step(f, x0)\n",
        "\n",
        "print(x0)"
      ],
      "execution_count": 35,
      "outputs": [
        {
          "output_type": "stream",
          "text": [
            "<tf.Variable 'Variable:0' shape=() dtype=float32, numpy=-0.008212212>\n"
          ],
          "name": "stdout"
        }
      ]
    },
    {
      "cell_type": "markdown",
      "metadata": {
        "id": "wEmgTJitT9cU",
        "colab_type": "text"
      },
      "source": [
        "<img src=\"https://drive.google.com/uc?id=1Kr2NsMyA1zZUCsEDLYnorQ6a2u9ohulM\" width=\"300\">\n"
      ]
    },
    {
      "cell_type": "markdown",
      "metadata": {
        "id": "Pj3QFgizKZKR",
        "colab_type": "text"
      },
      "source": [
        "# Linear Regression (Using Tensorflow 2)\n",
        "Now let's use **tensorflow**. Some benefits of using tensorflow:\n",
        "\n",
        "\n",
        "*   We can create more complex models in it without doing some theory stuff like finding gradients by hand!\n",
        "*   Using some amazing optimizers.\n",
        "*   Extensive use in deep learning.\n",
        "\n"
      ]
    },
    {
      "cell_type": "code",
      "metadata": {
        "id": "Rwnh2pvpPNZ7",
        "colab_type": "code",
        "colab": {}
      },
      "source": [
        "X = tf.constant(x, dtype=tf.float32)\n",
        "Y = tf.constant(y, dtype=tf.float32)"
      ],
      "execution_count": 0,
      "outputs": []
    },
    {
      "cell_type": "code",
      "metadata": {
        "id": "1WROCYRRF6o_",
        "colab_type": "code",
        "colab": {}
      },
      "source": [
        "def tf_h(x, w):\n",
        "  x = tf.concat((tf.ones((1, x.shape[1])), x), 0)\n",
        "  return tf.matmul(w, x, True)"
      ],
      "execution_count": 0,
      "outputs": []
    },
    {
      "cell_type": "markdown",
      "metadata": {
        "id": "xRUg72z3O43w",
        "colab_type": "text"
      },
      "source": [
        "## Visualizing Data and Estimator Result"
      ]
    },
    {
      "cell_type": "code",
      "metadata": {
        "id": "PpgMF_vkO5rg",
        "colab_type": "code",
        "colab": {
          "base_uri": "https://localhost:8080/",
          "height": 282
        },
        "outputId": "5f05f0f3-cdd6-4677-aa54-5c3f48496bf2"
      },
      "source": [
        "def tf_show(x, y, w):\n",
        "  print(x.shape, y.shape, w.shape)\n",
        "  predicted = tf_h(x, w)\n",
        "  plt.figure()\n",
        "  plt.plot(x, y, 'rx')\n",
        "  plt.plot(x[0], predicted[0], 'b--o')\n",
        "  plt.show()\n",
        "\n",
        "W = tf.Variable(np.random.rand(2, 1), dtype=tf.float32)\n",
        "tf_show(X, Y, W)"
      ],
      "execution_count": 14,
      "outputs": [
        {
          "output_type": "stream",
          "text": [
            "(1, 15) (1, 15) (2, 1)\n"
          ],
          "name": "stdout"
        },
        {
          "output_type": "display_data",
          "data": {
            "image/png": "[encoded data removed]",
            "text/plain": [
              "<Figure size 432x288 with 1 Axes>"
            ]
          },
          "metadata": {
            "tags": [],
            "needs_background": "light"
          }
        }
      ]
    },
    {
      "cell_type": "code",
      "metadata": {
        "id": "qTYWdPqeV7Hm",
        "colab_type": "code",
        "colab": {
          "base_uri": "https://localhost:8080/",
          "height": 68
        },
        "outputId": "1a6be64e-da67-4540-db6f-8a09668e6875"
      },
      "source": [
        "optimizer = tf.optimizers.Adam()\n",
        "\n",
        "def tf_cost(X, Y, W):\n",
        "  a = Y - tf_h(X, W)\n",
        "  return tf.matmul(a, a, transpose_b=True)/(2*X.shape[1])\n",
        "\n",
        "def tf_train_step(x, y, w, verbose=0):\n",
        "  with tf.GradientTape() as t:\n",
        "    J = tf_cost(x, y, w)\n",
        "    if verbose:\n",
        "      print('Loss: ',J)\n",
        "  w_grads = t.gradient(J, w)\n",
        "  optimizer.apply_gradients(zip([w_grads], [w]))\n",
        "  return w\n",
        "\n",
        "def tf_train(X, Y, max_iters=1000, min_cost=0.01, W=None, verbose=0):\n",
        "  if W is None:\n",
        "    W = tf.Variable(np.random.rand(2, 1), dtype=tf.float32)\n",
        "  for i in range(max_iters):\n",
        "    index = np.random.randint(0, x.shape[1])\n",
        "    tf_train_step(X[:, index:index+1], Y[:, index:index+1], W)\n",
        "    cost_value = tf_cost(X, Y, W).numpy()[0][0]\n",
        "    if verbose:\n",
        "      print('Cost: ', cost_value)\n",
        "    if cost_value < min_cost:\n",
        "      break\n",
        "  print(\"Training Done...\")\n",
        "  print(\"Cost: {}\".format(tf_cost(X, Y, W).numpy()[0][0]))\n",
        "  print(\"W = \", W)\n",
        "  return W\n",
        "  \n",
        "W = tf.Variable(np.random.rand(2, 1), dtype=tf.float32)\n",
        "index = np.random.randint(0, x.shape[1])\n",
        "print('Before: ', W.numpy().T)\n",
        "tf_train_step(X[:, index:index+1], Y[:, index:index+1], W)\n",
        "print('After: ', W.numpy().T)\n",
        "print('Cost: ', tf_cost(X, Y, W).numpy())\n"
      ],
      "execution_count": 15,
      "outputs": [
        {
          "output_type": "stream",
          "text": [
            "Before:  [[0.10429705 0.09439518]]\n",
            "After:  [[0.10529705 0.09539518]]\n",
            "Cost:  [[1213.8395]]\n"
          ],
          "name": "stdout"
        }
      ]
    },
    {
      "cell_type": "code",
      "metadata": {
        "id": "jHqRgHjDB25j",
        "colab_type": "code",
        "colab": {
          "base_uri": "https://localhost:8080/",
          "height": 102
        },
        "outputId": "c8ca7105-af20-403f-8ace-b8b57f25a5e4"
      },
      "source": [
        "W = tf_train(X, Y, W=W)"
      ],
      "execution_count": 16,
      "outputs": [
        {
          "output_type": "stream",
          "text": [
            "Training Done...\n",
            "Cost: 378.6046447753906\n",
            "W =  <tf.Variable 'Variable:0' shape=(2, 1) dtype=float32, numpy=\n",
            "array([[0.8513746 ],\n",
            "       [0.77810436]], dtype=float32)>\n"
          ],
          "name": "stdout"
        }
      ]
    },
    {
      "cell_type": "markdown",
      "metadata": {
        "id": "6_WEIsVNOs-M",
        "colab_type": "text"
      },
      "source": [
        "## Visualizing Performance\n"
      ]
    },
    {
      "cell_type": "code",
      "metadata": {
        "id": "qAwB3uEd98Ly",
        "colab_type": "code",
        "colab": {
          "base_uri": "https://localhost:8080/",
          "height": 282
        },
        "outputId": "5ef80dbe-4064-4554-d413-6ce248e70af4"
      },
      "source": [
        "tf_show(X, Y, W)"
      ],
      "execution_count": 17,
      "outputs": [
        {
          "output_type": "stream",
          "text": [
            "(1, 15) (1, 15) (2, 1)\n"
          ],
          "name": "stdout"
        },
        {
          "output_type": "display_data",
          "data": {
            "image/png": "[encoded data removed]",
            "text/plain": [
              "<Figure size 432x288 with 1 Axes>"
            ]
          },
          "metadata": {
            "tags": [],
            "needs_background": "light"
          }
        }
      ]
    },
    {
      "cell_type": "markdown",
      "metadata": {
        "id": "Ib5RbrFISRtp",
        "colab_type": "text"
      },
      "source": [
        "# California Housing Dataset\n"
      ]
    },
    {
      "cell_type": "code",
      "metadata": {
        "id": "ZfCylJszSVGQ",
        "colab_type": "code",
        "colab": {}
      },
      "source": [
        "ds = pd.read_csv('sample_data/california_housing_train.csv')"
      ],
      "execution_count": 0,
      "outputs": []
    },
    {
      "cell_type": "code",
      "metadata": {
        "id": "p19N6Rx_S3KQ",
        "colab_type": "code",
        "outputId": "6a97f464-1a99-4c3f-d786-13124e5aa5dc",
        "colab": {
          "base_uri": "https://localhost:8080/",
          "height": 204
        }
      },
      "source": [
        "ds.head()"
      ],
      "execution_count": 19,
      "outputs": [
        {
          "output_type": "execute_result",
          "data": {
            "text/html": [
              "<div>\n",
              "<style scoped>\n",
              "    .dataframe tbody tr th:only-of-type {\n",
              "        vertical-align: middle;\n",
              "    }\n",
              "\n",
              "    .dataframe tbody tr th {\n",
              "        vertical-align: top;\n",
              "    }\n",
              "\n",
              "    .dataframe thead th {\n",
              "        text-align: right;\n",
              "    }\n",
              "</style>\n",
              "<table border=\"1\" class=\"dataframe\">\n",
              "  <thead>\n",
              "    <tr style=\"text-align: right;\">\n",
              "      <th></th>\n",
              "      <th>longitude</th>\n",
              "      <th>latitude</th>\n",
              "      <th>housing_median_age</th>\n",
              "      <th>total_rooms</th>\n",
              "      <th>total_bedrooms</th>\n",
              "      <th>population</th>\n",
              "      <th>households</th>\n",
              "      <th>median_income</th>\n",
              "      <th>median_house_value</th>\n",
              "    </tr>\n",
              "  </thead>\n",
              "  <tbody>\n",
              "    <tr>\n",
              "      <th>0</th>\n",
              "      <td>-114.31</td>\n",
              "      <td>34.19</td>\n",
              "      <td>15.0</td>\n",
              "      <td>5612.0</td>\n",
              "      <td>1283.0</td>\n",
              "      <td>1015.0</td>\n",
              "      <td>472.0</td>\n",
              "      <td>1.4936</td>\n",
              "      <td>66900.0</td>\n",
              "    </tr>\n",
              "    <tr>\n",
              "      <th>1</th>\n",
              "      <td>-114.47</td>\n",
              "      <td>34.40</td>\n",
              "      <td>19.0</td>\n",
              "      <td>7650.0</td>\n",
              "      <td>1901.0</td>\n",
              "      <td>1129.0</td>\n",
              "      <td>463.0</td>\n",
              "      <td>1.8200</td>\n",
              "      <td>80100.0</td>\n",
              "    </tr>\n",
              "    <tr>\n",
              "      <th>2</th>\n",
              "      <td>-114.56</td>\n",
              "      <td>33.69</td>\n",
              "      <td>17.0</td>\n",
              "      <td>720.0</td>\n",
              "      <td>174.0</td>\n",
              "      <td>333.0</td>\n",
              "      <td>117.0</td>\n",
              "      <td>1.6509</td>\n",
              "      <td>85700.0</td>\n",
              "    </tr>\n",
              "    <tr>\n",
              "      <th>3</th>\n",
              "      <td>-114.57</td>\n",
              "      <td>33.64</td>\n",
              "      <td>14.0</td>\n",
              "      <td>1501.0</td>\n",
              "      <td>337.0</td>\n",
              "      <td>515.0</td>\n",
              "      <td>226.0</td>\n",
              "      <td>3.1917</td>\n",
              "      <td>73400.0</td>\n",
              "    </tr>\n",
              "    <tr>\n",
              "      <th>4</th>\n",
              "      <td>-114.57</td>\n",
              "      <td>33.57</td>\n",
              "      <td>20.0</td>\n",
              "      <td>1454.0</td>\n",
              "      <td>326.0</td>\n",
              "      <td>624.0</td>\n",
              "      <td>262.0</td>\n",
              "      <td>1.9250</td>\n",
              "      <td>65500.0</td>\n",
              "    </tr>\n",
              "  </tbody>\n",
              "</table>\n",
              "</div>"
            ],
            "text/plain": [
              "   longitude  latitude  ...  median_income  median_house_value\n",
              "0    -114.31     34.19  ...         1.4936             66900.0\n",
              "1    -114.47     34.40  ...         1.8200             80100.0\n",
              "2    -114.56     33.69  ...         1.6509             85700.0\n",
              "3    -114.57     33.64  ...         3.1917             73400.0\n",
              "4    -114.57     33.57  ...         1.9250             65500.0\n",
              "\n",
              "[5 rows x 9 columns]"
            ]
          },
          "metadata": {
            "tags": []
          },
          "execution_count": 19
        }
      ]
    },
    {
      "cell_type": "code",
      "metadata": {
        "id": "ByAIN8G5XJ7P",
        "colab_type": "code",
        "outputId": "dd2762ec-4db7-41c7-87af-05cf525b39cd",
        "colab": {
          "base_uri": "https://localhost:8080/",
          "height": 297
        }
      },
      "source": [
        "ds.describe()"
      ],
      "execution_count": 20,
      "outputs": [
        {
          "output_type": "execute_result",
          "data": {
            "text/html": [
              "<div>\n",
              "<style scoped>\n",
              "    .dataframe tbody tr th:only-of-type {\n",
              "        vertical-align: middle;\n",
              "    }\n",
              "\n",
              "    .dataframe tbody tr th {\n",
              "        vertical-align: top;\n",
              "    }\n",
              "\n",
              "    .dataframe thead th {\n",
              "        text-align: right;\n",
              "    }\n",
              "</style>\n",
              "<table border=\"1\" class=\"dataframe\">\n",
              "  <thead>\n",
              "    <tr style=\"text-align: right;\">\n",
              "      <th></th>\n",
              "      <th>longitude</th>\n",
              "      <th>latitude</th>\n",
              "      <th>housing_median_age</th>\n",
              "      <th>total_rooms</th>\n",
              "      <th>total_bedrooms</th>\n",
              "      <th>population</th>\n",
              "      <th>households</th>\n",
              "      <th>median_income</th>\n",
              "      <th>median_house_value</th>\n",
              "    </tr>\n",
              "  </thead>\n",
              "  <tbody>\n",
              "    <tr>\n",
              "      <th>count</th>\n",
              "      <td>17000.000000</td>\n",
              "      <td>17000.000000</td>\n",
              "      <td>17000.000000</td>\n",
              "      <td>17000.000000</td>\n",
              "      <td>17000.000000</td>\n",
              "      <td>17000.000000</td>\n",
              "      <td>17000.000000</td>\n",
              "      <td>17000.000000</td>\n",
              "      <td>17000.000000</td>\n",
              "    </tr>\n",
              "    <tr>\n",
              "      <th>mean</th>\n",
              "      <td>-119.562108</td>\n",
              "      <td>35.625225</td>\n",
              "      <td>28.589353</td>\n",
              "      <td>2643.664412</td>\n",
              "      <td>539.410824</td>\n",
              "      <td>1429.573941</td>\n",
              "      <td>501.221941</td>\n",
              "      <td>3.883578</td>\n",
              "      <td>207300.912353</td>\n",
              "    </tr>\n",
              "    <tr>\n",
              "      <th>std</th>\n",
              "      <td>2.005166</td>\n",
              "      <td>2.137340</td>\n",
              "      <td>12.586937</td>\n",
              "      <td>2179.947071</td>\n",
              "      <td>421.499452</td>\n",
              "      <td>1147.852959</td>\n",
              "      <td>384.520841</td>\n",
              "      <td>1.908157</td>\n",
              "      <td>115983.764387</td>\n",
              "    </tr>\n",
              "    <tr>\n",
              "      <th>min</th>\n",
              "      <td>-124.350000</td>\n",
              "      <td>32.540000</td>\n",
              "      <td>1.000000</td>\n",
              "      <td>2.000000</td>\n",
              "      <td>1.000000</td>\n",
              "      <td>3.000000</td>\n",
              "      <td>1.000000</td>\n",
              "      <td>0.499900</td>\n",
              "      <td>14999.000000</td>\n",
              "    </tr>\n",
              "    <tr>\n",
              "      <th>25%</th>\n",
              "      <td>-121.790000</td>\n",
              "      <td>33.930000</td>\n",
              "      <td>18.000000</td>\n",
              "      <td>1462.000000</td>\n",
              "      <td>297.000000</td>\n",
              "      <td>790.000000</td>\n",
              "      <td>282.000000</td>\n",
              "      <td>2.566375</td>\n",
              "      <td>119400.000000</td>\n",
              "    </tr>\n",
              "    <tr>\n",
              "      <th>50%</th>\n",
              "      <td>-118.490000</td>\n",
              "      <td>34.250000</td>\n",
              "      <td>29.000000</td>\n",
              "      <td>2127.000000</td>\n",
              "      <td>434.000000</td>\n",
              "      <td>1167.000000</td>\n",
              "      <td>409.000000</td>\n",
              "      <td>3.544600</td>\n",
              "      <td>180400.000000</td>\n",
              "    </tr>\n",
              "    <tr>\n",
              "      <th>75%</th>\n",
              "      <td>-118.000000</td>\n",
              "      <td>37.720000</td>\n",
              "      <td>37.000000</td>\n",
              "      <td>3151.250000</td>\n",
              "      <td>648.250000</td>\n",
              "      <td>1721.000000</td>\n",
              "      <td>605.250000</td>\n",
              "      <td>4.767000</td>\n",
              "      <td>265000.000000</td>\n",
              "    </tr>\n",
              "    <tr>\n",
              "      <th>max</th>\n",
              "      <td>-114.310000</td>\n",
              "      <td>41.950000</td>\n",
              "      <td>52.000000</td>\n",
              "      <td>37937.000000</td>\n",
              "      <td>6445.000000</td>\n",
              "      <td>35682.000000</td>\n",
              "      <td>6082.000000</td>\n",
              "      <td>15.000100</td>\n",
              "      <td>500001.000000</td>\n",
              "    </tr>\n",
              "  </tbody>\n",
              "</table>\n",
              "</div>"
            ],
            "text/plain": [
              "          longitude      latitude  ...  median_income  median_house_value\n",
              "count  17000.000000  17000.000000  ...   17000.000000        17000.000000\n",
              "mean    -119.562108     35.625225  ...       3.883578       207300.912353\n",
              "std        2.005166      2.137340  ...       1.908157       115983.764387\n",
              "min     -124.350000     32.540000  ...       0.499900        14999.000000\n",
              "25%     -121.790000     33.930000  ...       2.566375       119400.000000\n",
              "50%     -118.490000     34.250000  ...       3.544600       180400.000000\n",
              "75%     -118.000000     37.720000  ...       4.767000       265000.000000\n",
              "max     -114.310000     41.950000  ...      15.000100       500001.000000\n",
              "\n",
              "[8 rows x 9 columns]"
            ]
          },
          "metadata": {
            "tags": []
          },
          "execution_count": 20
        }
      ]
    },
    {
      "cell_type": "code",
      "metadata": {
        "id": "ojGCW_8fXY-e",
        "colab_type": "code",
        "outputId": "098b7e6a-bce5-4aee-81bf-d5f6c12b8d52",
        "colab": {
          "base_uri": "https://localhost:8080/",
          "height": 391
        }
      },
      "source": [
        "m = ds.mean()\n",
        "s = ds.std()\n",
        "print('Mean:\\n', m)\n",
        "print('Standard Deviation:\\n', s)"
      ],
      "execution_count": 21,
      "outputs": [
        {
          "output_type": "stream",
          "text": [
            "Mean:\n",
            " longitude               -119.562108\n",
            "latitude                  35.625225\n",
            "housing_median_age        28.589353\n",
            "total_rooms             2643.664412\n",
            "total_bedrooms           539.410824\n",
            "population              1429.573941\n",
            "households               501.221941\n",
            "median_income              3.883578\n",
            "median_house_value    207300.912353\n",
            "dtype: float64\n",
            "Standard Deviation:\n",
            " longitude                  2.005166\n",
            "latitude                   2.137340\n",
            "housing_median_age        12.586937\n",
            "total_rooms             2179.947071\n",
            "total_bedrooms           421.499452\n",
            "population              1147.852959\n",
            "households               384.520841\n",
            "median_income              1.908157\n",
            "median_house_value    115983.764387\n",
            "dtype: float64\n"
          ],
          "name": "stdout"
        }
      ]
    },
    {
      "cell_type": "markdown",
      "metadata": {
        "id": "okC6P9wyl7g5",
        "colab_type": "text"
      },
      "source": [
        "## Method 1\n",
        "In this method, we simply load the dataset and convert it to *tensors*. After that our life is made easy! we just use the previous functions we implemented by tensorflow.\n",
        "\n",
        "Now we separate inputs from targets."
      ]
    },
    {
      "cell_type": "code",
      "metadata": {
        "id": "DGa6IyjamNht",
        "colab_type": "code",
        "colab": {}
      },
      "source": [
        "ds_arr = np.transpose(np.array(ds))\n",
        "X = ds_arr[:-1, :]\n",
        "y = ds_arr[-1:, :]"
      ],
      "execution_count": 0,
      "outputs": []
    },
    {
      "cell_type": "markdown",
      "metadata": {
        "id": "JGucHyTroL9S",
        "colab_type": "text"
      },
      "source": [
        "Converting data to *tensors*"
      ]
    },
    {
      "cell_type": "code",
      "metadata": {
        "id": "Y5rhbem-mQ9Z",
        "colab_type": "code",
        "colab": {}
      },
      "source": [
        "X = tf.constant(X, dtype=tf.float32)\n",
        "y = tf.constant(y, dtype=tf.float32)\n",
        "W = tf.Variable(np.random.rand(X.shape[0]+1, 1), dtype=tf.float32)"
      ],
      "execution_count": 0,
      "outputs": []
    },
    {
      "cell_type": "markdown",
      "metadata": {
        "id": "zfDwzSNhoSLY",
        "colab_type": "text"
      },
      "source": [
        "Let's do the training now."
      ]
    },
    {
      "cell_type": "code",
      "metadata": {
        "id": "54V6ohvWmW8W",
        "colab_type": "code",
        "outputId": "486c9add-7d18-4b45-8a7c-df54ac568f0d",
        "colab": {
          "base_uri": "https://localhost:8080/",
          "height": 221
        }
      },
      "source": [
        "W = tf_train(X, y, max_iters=10000, W=W, verbose=0)"
      ],
      "execution_count": 24,
      "outputs": [
        {
          "output_type": "stream",
          "text": [
            "Training Done...\n",
            "Cost: 20485586944.0\n",
            "W =  <tf.Variable 'Variable:0' shape=(9, 1) dtype=float32, numpy=\n",
            "array([[10.36276  ],\n",
            "       [-8.797624 ],\n",
            "       [10.25929  ],\n",
            "       [ 9.602063 ],\n",
            "       [ 8.150002 ],\n",
            "       [ 7.4194307],\n",
            "       [ 7.751551 ],\n",
            "       [ 8.814266 ],\n",
            "       [ 9.635602 ]], dtype=float32)>\n"
          ],
          "name": "stdout"
        }
      ]
    },
    {
      "cell_type": "markdown",
      "metadata": {
        "id": "-BJBlEtnoVD3",
        "colab_type": "text"
      },
      "source": [
        "Finally, we can see how well we did!"
      ]
    },
    {
      "cell_type": "code",
      "metadata": {
        "id": "DCmPEtoamaPs",
        "colab_type": "code",
        "outputId": "846dba6c-051d-43f6-b2f1-eb5a236732c3",
        "colab": {
          "base_uri": "https://localhost:8080/",
          "height": 187
        }
      },
      "source": [
        "o = tf_h(X, W).numpy()\n",
        "for i in range(10):\n",
        "  print('No: {}'.format(i+1), '\\tTarget: {}'.format(ds_arr[-1, i]), '\\tPredicted: {}'.format(o[0, i]))"
      ],
      "execution_count": 25,
      "outputs": [
        {
          "output_type": "stream",
          "text": [
            "No: 1 \tTarget: 66900.0 \tPredicted: 68810.3046875\n",
            "No: 2 \tTarget: 80100.0 \tPredicted: 90854.6796875\n",
            "No: 3 \tTarget: 85700.0 \tPredicted: 12314.5146484375\n",
            "No: 4 \tTarget: 73400.0 \tPredicted: 22246.185546875\n",
            "No: 5 \tTarget: 65500.0 \tPredicted: 22988.443359375\n",
            "No: 6 \tTarget: 74000.0 \tPredicted: 22037.03125\n",
            "No: 7 \tTarget: 82400.0 \tPredicted: 50216.35546875\n",
            "No: 8 \tTarget: 48500.0 \tPredicted: 13949.7109375\n",
            "No: 9 \tTarget: 58400.0 \tPredicted: 83060.171875\n",
            "No: 10 \tTarget: 48100.0 \tPredicted: 24821.0\n"
          ],
          "name": "stdout"
        }
      ]
    },
    {
      "cell_type": "markdown",
      "metadata": {
        "id": "Q9YpnSICmvtT",
        "colab_type": "text"
      },
      "source": [
        "## Method 2\n",
        "In this method we do a little **preprocess**. We first **normalize** the dataset. This help faster convergence.\n",
        "\n",
        "Other steps are just like *method 1*."
      ]
    },
    {
      "cell_type": "code",
      "metadata": {
        "id": "-qQm6Q-vZAVd",
        "colab_type": "code",
        "colab": {}
      },
      "source": [
        "def normalize(ds):\n",
        "  mean = np.array(ds.mean())\n",
        "  mean = mean[np.newaxis, :]\n",
        "  std = np.array(ds.std())\n",
        "  std = std[np.newaxis, :]\n",
        "  X = np.array(ds)\n",
        "  X = (X-mean)/std\n",
        "  return X\n",
        "\n",
        "def denormalize(y, ds):\n",
        "  mean = np.array(ds.mean())[-1]\n",
        "  std = np.array(ds.std())[-1]\n",
        "  y = (y*std) + mean\n",
        "  return y"
      ],
      "execution_count": 0,
      "outputs": []
    },
    {
      "cell_type": "code",
      "metadata": {
        "id": "xmJUEGYgUxxv",
        "colab_type": "code",
        "colab": {}
      },
      "source": [
        "ds_arr = np.transpose(np.array(ds))\n",
        "normalized_ds_arr = np.transpose(normalize(ds))\n",
        "y = normalized_ds_arr[-1:, :]\n",
        "X = normalized_ds_arr[:-1, :]"
      ],
      "execution_count": 0,
      "outputs": []
    },
    {
      "cell_type": "code",
      "metadata": {
        "id": "RJvL5M6DV2LZ",
        "colab_type": "code",
        "colab": {}
      },
      "source": [
        "X = tf.constant(X, dtype=tf.float32)\n",
        "y = tf.constant(y, dtype=tf.float32)\n",
        "W = tf.Variable(np.random.rand(X.shape[0]+1, 1), dtype=tf.float32)"
      ],
      "execution_count": 0,
      "outputs": []
    },
    {
      "cell_type": "code",
      "metadata": {
        "id": "ni1OZUtfQ1-u",
        "colab_type": "code",
        "colab": {}
      },
      "source": [
        "optimizer = tf.optimizers.Adam(learning_rate=0.01)"
      ],
      "execution_count": 0,
      "outputs": []
    },
    {
      "cell_type": "code",
      "metadata": {
        "id": "3LvuMuyAWQUA",
        "colab_type": "code",
        "outputId": "4baf1d8e-bf50-428d-c0d7-3f3cd34d1ad8",
        "colab": {
          "base_uri": "https://localhost:8080/",
          "height": 221
        }
      },
      "source": [
        "W = tf_train(X, y, max_iters=1000, W=W, verbose=0)"
      ],
      "execution_count": 30,
      "outputs": [
        {
          "output_type": "stream",
          "text": [
            "Training Done...\n",
            "Cost: 0.7130334377288818\n",
            "W =  <tf.Variable 'Variable:0' shape=(9, 1) dtype=float32, numpy=\n",
            "array([[-0.01255702],\n",
            "       [-0.00677555],\n",
            "       [ 0.733249  ],\n",
            "       [-0.2824842 ],\n",
            "       [-0.03448102],\n",
            "       [ 0.03295176],\n",
            "       [ 0.3352743 ],\n",
            "       [-0.33869463],\n",
            "       [ 0.7131922 ]], dtype=float32)>\n"
          ],
          "name": "stdout"
        }
      ]
    },
    {
      "cell_type": "code",
      "metadata": {
        "id": "Y0yab8m9acwL",
        "colab_type": "code",
        "outputId": "a33acdb1-9398-43c0-bf28-0dcbda5e4798",
        "colab": {
          "base_uri": "https://localhost:8080/",
          "height": 187
        }
      },
      "source": [
        "o = tf_h(X, W).numpy()\n",
        "o = denormalize(o, ds)\n",
        "for i in range(10):\n",
        "  print('No: {}'.format(i+1), '\\tTarget: {}'.format(ds_arr[-1, i]), '\\tPredicted: {}'.format(o[0, i]))"
      ],
      "execution_count": 31,
      "outputs": [
        {
          "output_type": "stream",
          "text": [
            "No: 1 \tTarget: 66900.0 \tPredicted: 68682.890625\n",
            "No: 2 \tTarget: 80100.0 \tPredicted: 87485.3203125\n",
            "No: 3 \tTarget: 85700.0 \tPredicted: 62580.5625\n",
            "No: 4 \tTarget: 73400.0 \tPredicted: 130273.046875\n",
            "No: 5 \tTarget: 65500.0 \tPredicted: 56959.640625\n",
            "No: 6 \tTarget: 74000.0 \tPredicted: 100678.0078125\n",
            "No: 7 \tTarget: 82400.0 \tPredicted: 82002.1953125\n",
            "No: 8 \tTarget: 48500.0 \tPredicted: 44980.8125\n",
            "No: 9 \tTarget: 58400.0 \tPredicted: 38590.03125\n",
            "No: 10 \tTarget: 48100.0 \tPredicted: 55321.375\n"
          ],
          "name": "stdout"
        }
      ]
    },
    {
      "cell_type": "code",
      "metadata": {
        "id": "wB8Myz0XnXMA",
        "colab_type": "code",
        "outputId": "32065739-b1dc-4252-929c-96b69a84c78d",
        "colab": {
          "base_uri": "https://localhost:8080/",
          "height": 282
        }
      },
      "source": [
        "def showOutputs(y, predicted, no=100):\n",
        "  x = np.arange(0, no)\n",
        "  y = y[0,:no]\n",
        "  predicted = predicted [0,:no]\n",
        "  print(y.shape, predicted.shape)\n",
        "  plt.figure()\n",
        "  plt.plot(x, y, 'rx')\n",
        "  plt.plot(x, predicted, 'b--o')\n",
        "  plt.show()\n",
        "\n",
        "showOutputs(ds_arr[-1:,:], o, 10)"
      ],
      "execution_count": 32,
      "outputs": [
        {
          "output_type": "stream",
          "text": [
            "(10,) (10,)\n"
          ],
          "name": "stdout"
        },
        {
          "output_type": "display_data",
          "data": {
            "image/png": "[encoded data removed]",
            "text/plain": [
              "<Figure size 432x288 with 1 Axes>"
            ]
          },
          "metadata": {
            "tags": [],
            "needs_background": "light"
          }
        }
      ]
    },
    {
      "cell_type": "markdown",
      "metadata": {
        "id": "JSzg_CXeQEUX",
        "colab_type": "text"
      },
      "source": [
        "<img src=\"https://drive.google.com/uc?id=1w9dinogGqiVM_7wg3FESNSdAQnempPOj\" width=\"400\">\n"
      ]
    }
  ]
}