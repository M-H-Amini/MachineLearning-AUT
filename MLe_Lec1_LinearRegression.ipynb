{
  "nbformat": 4,
  "nbformat_minor": 0,
  "metadata": {
    "colab": {
      "name": "MLe-Lec1-LinearRegression.ipynb",
      "provenance": [],
      "collapsed_sections": [],
      "authorship_tag": "ABX9TyPgm19FxowiwyjPGDLZsN0/",
      "include_colab_link": true
    },
    "kernelspec": {
      "name": "python3",
      "display_name": "Python 3"
    }
  },
  "cells": [
    {
      "cell_type": "markdown",
      "metadata": {
        "id": "view-in-github",
        "colab_type": "text"
      },
      "source": [
        "<a href=\"https://colab.research.google.com/github/M-H-Amini/MachineLearning-AUT/blob/master/MLe_Lec1_LinearRegression.ipynb\" target=\"_parent\"><img src=\"https://colab.research.google.com/assets/colab-badge.svg\" alt=\"Open In Colab\"/></a>"
      ]
    },
    {
      "cell_type": "markdown",
      "metadata": {
        "id": "KXO2Fa0YBjB5",
        "colab_type": "text"
      },
      "source": [
        "# In The Name Of ALLAH\n",
        "# Machine Learning *elementary* Course\n",
        "## Amirkabir University of Technology\n",
        "### Mohammad Hossein Amini (mhamini@aut.ac.ir)\n",
        "# Lecture 1 - Linear Regression\n",
        "\n",
        "<img src=\"https://drive.google.com/uc?id=144SDpgv7EEy6Og1ZFNIv_nBaugKGiSCE\" width=\"400\">\n",
        "\n"
      ]
    },
    {
      "cell_type": "markdown",
      "metadata": {
        "id": "IljETY4yFS5a",
        "colab_type": "text"
      },
      "source": [
        "# Introduction\n",
        "\n",
        "The theoretical stuff has been discussed in the video lectures. Let's implement a little...\n",
        "\n",
        "First of all, we should import some modules."
      ]
    },
    {
      "cell_type": "code",
      "metadata": {
        "id": "O9sWGnzX1xNw",
        "colab_type": "code",
        "colab": {
          "base_uri": "https://localhost:8080/",
          "height": 34
        },
        "outputId": "9079c7c7-203b-4677-b6e9-2ecc1e0d8cb8"
      },
      "source": [
        "try:\n",
        "  # %tensorflow_version only exists in Colab.\n",
        "  %tensorflow_version 2.x\n",
        "except Exception:\n",
        "  pass\n",
        "import tensorflow as tf\n",
        "print(tf.__version__)\n",
        "import numpy as np\n",
        "import matplotlib.pyplot as plt\n",
        "import pandas as pd"
      ],
      "execution_count": 1,
      "outputs": [
        {
          "output_type": "stream",
          "text": [
            "2.2.0-rc4\n"
          ],
          "name": "stdout"
        }
      ]
    },
    {
      "cell_type": "markdown",
      "metadata": {
        "id": "pOo1VsyEBkcZ",
        "colab_type": "text"
      },
      "source": [
        "# Creating Dataset"
      ]
    },
    {
      "cell_type": "markdown",
      "metadata": {
        "id": "9qc9FMDVpvls",
        "colab_type": "text"
      },
      "source": [
        "Let's create a simple one dimensional dataset..."
      ]
    },
    {
      "cell_type": "code",
      "metadata": {
        "id": "o0ltTDTTAn5j",
        "colab_type": "code",
        "colab": {}
      },
      "source": [
        "x = np.array([np.linspace(10, 50, 15)])\n",
        "y = 2 + 1.5 * x +  10 * np.random.normal(0, 1, x.shape)"
      ],
      "execution_count": 0,
      "outputs": []
    },
    {
      "cell_type": "code",
      "metadata": {
        "id": "rz-SKelkBFx2",
        "colab_type": "code",
        "colab": {
          "base_uri": "https://localhost:8080/",
          "height": 265
        },
        "outputId": "6b8b07a5-cc6d-429c-b963-01452a4c1942"
      },
      "source": [
        "plt.figure()\n",
        "plt.plot(x, y, 'rx')\n",
        "plt.show()"
      ],
      "execution_count": 3,
      "outputs": [
        {
          "output_type": "display_data",
          "data": {
            "image/png": "[encoded data removed]",
            "text/plain": [
              "<Figure size 432x288 with 1 Axes>"
            ]
          },
          "metadata": {
            "tags": [],
            "needs_background": "light"
          }
        }
      ]
    },
    {
      "cell_type": "markdown",
      "metadata": {
        "id": "DAdoekrHBxhi",
        "colab_type": "text"
      },
      "source": [
        "# Linear Regression (Hand Coding!)\n",
        "Now, we implement our estimator just using **numpy**. In this method, we implement gradients calculation and weight updates (gradient descent) by hand!\n",
        "\n",
        "Let's implement estimator (hypothesis) function."
      ]
    },
    {
      "cell_type": "code",
      "metadata": {
        "id": "LNAw7Z2pBdJU",
        "colab_type": "code",
        "colab": {
          "base_uri": "https://localhost:8080/",
          "height": 34
        },
        "outputId": "5265f9d7-3a76-405c-fcd9-7fafe1223266"
      },
      "source": [
        "def h(x, w):\n",
        "  x = np.concatenate((np.ones((1, x.shape[1])) ,x))\n",
        "  return np.dot(np.transpose(w), x)\n",
        "\n",
        "w = np.array([[1], [0.5]])\n",
        "print(h(np.array([[1]]), w))"
      ],
      "execution_count": 4,
      "outputs": [
        {
          "output_type": "stream",
          "text": [
            "[[1.5]]\n"
          ],
          "name": "stdout"
        }
      ]
    },
    {
      "cell_type": "markdown",
      "metadata": {
        "id": "ZiftUlS5Hd3R",
        "colab_type": "text"
      },
      "source": [
        "## Visualizing Data and Estimator Result\n",
        "It is exciting to see the performance with a simple function."
      ]
    },
    {
      "cell_type": "code",
      "metadata": {
        "id": "Q3adT50oHsab",
        "colab_type": "code",
        "colab": {
          "base_uri": "https://localhost:8080/",
          "height": 265
        },
        "outputId": "f45c78c4-fb9b-43f5-f4b1-d56c25b3838d"
      },
      "source": [
        "def show(x, y, w):\n",
        "  predicted = h(x, w)\n",
        "  plt.figure()\n",
        "  plt.plot(x[0:1,:], y, 'rx')\n",
        "  plt.plot(x[0], predicted[0], 'b-')\n",
        "  plt.show()\n",
        "\n",
        "w = np.array([[20], [2]])\n",
        "show(x, y, w)"
      ],
      "execution_count": 8,
      "outputs": [
        {
          "output_type": "display_data",
          "data": {
            "image/png": "[encoded data removed]",
            "text/plain": [
              "<Figure size 432x288 with 1 Axes>"
            ]
          },
          "metadata": {
            "tags": [],
            "needs_background": "light"
          }
        }
      ]
    },
    {
      "cell_type": "code",
      "metadata": {
        "id": "XN6ilNiRCavp",
        "colab_type": "code",
        "colab": {
          "base_uri": "https://localhost:8080/",
          "height": 68
        },
        "outputId": "5da9f17a-e0c4-4d82-d4e3-8ca68a9e5747"
      },
      "source": [
        "alpha = 0.0001\n",
        "\n",
        "def train_step(x, y, w):\n",
        "  delta_w = -np.dot(x, np.transpose(y - h(x, w)))\n",
        "  w = w - alpha * delta_w\n",
        "  return w\n",
        "\n",
        "def cost(x, y, w):\n",
        "  return float(np.dot(y - h(x, w),np.transpose(y - h(x, w))) / (2*y.shape[1]))\n",
        "\n",
        "def train(x, y, max_iters=1000, min_cost=0.1, w=None, verbose=0):\n",
        "  if w is None:\n",
        "    w = np.random.rand(2, 1)\n",
        "  for i in range(max_iters):\n",
        "    index = np.random.randint(0, x.shape[1])\n",
        "    w = train_step(x[:, index:index+1], y[:, index:index+1], w)\n",
        "    if cost(x, y, w) < min_cost:\n",
        "      break\n",
        "    if verbose:\n",
        "      print('Iteration {}: W = '.format(i+1),np.transpose(w), 'Cost = ', cost(x, y, w))\n",
        "  print(\"Training Done...\")\n",
        "  print(\"Cost: {}\".format(cost(x, y, w)))\n",
        "  print(\"w = \", w.T)\n",
        "  return w\n",
        "\n",
        "w = train(x, y, max_iters=1000, min_cost=10 ,verbose=0)"
      ],
      "execution_count": 9,
      "outputs": [
        {
          "output_type": "stream",
          "text": [
            "Training Done...\n",
            "Cost: 36.924839664217544\n",
            "w =  [[1.52552769 1.63043765]]\n"
          ],
          "name": "stdout"
        }
      ]
    },
    {
      "cell_type": "markdown",
      "metadata": {
        "id": "xRuSuINcL8MF",
        "colab_type": "text"
      },
      "source": [
        "## Visualizing Performance\n",
        "Let's see the result."
      ]
    },
    {
      "cell_type": "code",
      "metadata": {
        "id": "2bMbot_eL7iX",
        "colab_type": "code",
        "colab": {
          "base_uri": "https://localhost:8080/",
          "height": 520
        },
        "outputId": "bb0bd4a9-b648-4d20-8f66-6f47b0ff004e"
      },
      "source": [
        "for i in range(x.shape[1]):\n",
        "  print('Input: {:5.3f}, Target: {:5.3f}, Output: {:5.3f}'.format(x[:,i:i+1][0][0], y[:, i:i+1][0][0], h(x[:, i:i+1], w)[0][0]))\n",
        "\n",
        "show(x, y, w)"
      ],
      "execution_count": 10,
      "outputs": [
        {
          "output_type": "stream",
          "text": [
            "Input: 10.000, Target: 11.626, Output: 17.830\n",
            "Input: 12.857, Target: 18.458, Output: 22.488\n",
            "Input: 15.714, Target: 26.719, Output: 27.147\n",
            "Input: 18.571, Target: 31.209, Output: 31.805\n",
            "Input: 21.429, Target: 40.877, Output: 36.463\n",
            "Input: 24.286, Target: 44.038, Output: 41.122\n",
            "Input: 27.143, Target: 34.236, Output: 45.780\n",
            "Input: 30.000, Target: 52.013, Output: 50.439\n",
            "Input: 32.857, Target: 52.701, Output: 55.097\n",
            "Input: 35.714, Target: 68.593, Output: 59.755\n",
            "Input: 38.571, Target: 66.112, Output: 64.414\n",
            "Input: 41.429, Target: 67.865, Output: 69.072\n",
            "Input: 44.286, Target: 66.617, Output: 73.731\n",
            "Input: 47.143, Target: 69.092, Output: 78.389\n",
            "Input: 50.000, Target: 57.289, Output: 83.047\n"
          ],
          "name": "stdout"
        },
        {
          "output_type": "display_data",
          "data": {
            "image/png": "[encoded data removed]",
            "text/plain": [
              "<Figure size 432x288 with 1 Axes>"
            ]
          },
          "metadata": {
            "tags": [],
            "needs_background": "light"
          }
        }
      ]
    },
    {
      "cell_type": "markdown",
      "metadata": {
        "id": "qMMiyIS0Pc9I",
        "colab_type": "text"
      },
      "source": [
        "<img src=\"https://drive.google.com/uc?id=1kZYpzQKiV95eL6EZHL_CaE0Ca49MkLPO\" width=\"400\">\n"
      ]
    },
    {
      "cell_type": "markdown",
      "metadata": {
        "id": "YLpibBqSAxd3",
        "colab_type": "text"
      },
      "source": [
        "# Normal Equation\n",
        "Use of normal equation, wherever possible, makes our life a lot easier! The main reason is that it is not an iterative method. You get the minimum in a few computations, instead of (maybe) thousands of iterations of last method. \n"
      ]
    },
    {
      "cell_type": "code",
      "metadata": {
        "id": "Y7RT_0YBAwv5",
        "colab_type": "code",
        "colab": {
          "base_uri": "https://localhost:8080/",
          "height": 265
        },
        "outputId": "38259164-ea0c-435b-99b9-825a2ef538d3"
      },
      "source": [
        "def findWeights(x, y):\n",
        "  x = np.transpose(np.concatenate((np.ones((1, x.shape[1])),x)))\n",
        "  y = np.transpose(y)\n",
        "  w = np.dot(np.dot(np.linalg.inv(np.dot(x.T, x)), x.T), y)\n",
        "  return w\n",
        "\n",
        "w = np.random.rand(2,1)\n",
        "w = findWeights(x, y)\n",
        "show(x, y, w)\n"
      ],
      "execution_count": 14,
      "outputs": [
        {
          "output_type": "display_data",
          "data": {
            "image/png": "[encoded data removed]",
            "text/plain": [
              "<Figure size 432x288 with 1 Axes>"
            ]
          },
          "metadata": {
            "tags": [],
            "needs_background": "light"
          }
        }
      ]
    },
    {
      "cell_type": "markdown",
      "metadata": {
        "id": "HSN6yxUvC3iI",
        "colab_type": "text"
      },
      "source": [
        "# Polynomial Regression"
      ]
    },
    {
      "cell_type": "code",
      "metadata": {
        "id": "dREZiHiRDVMf",
        "colab_type": "code",
        "colab": {
          "base_uri": "https://localhost:8080/",
          "height": 284
        },
        "outputId": "2bec4bae-4a1f-4ef9-b87a-949374d698fa"
      },
      "source": [
        "xx = np.array([np.linspace(-10, 10, 50)])\n",
        "yy = xx + 0.1*np.power(xx,2) + np.sin(xx) + np.random.randn(*xx.shape)\n",
        "w = np.array([[0],[0],[0],[0]])\n",
        "\n",
        "xxx = np.concatenate((xx, np.power(xx, 2), np.sin(xx)))\n",
        "print(xxx.shape, yy.shape)\n",
        "w = findWeights(xxx, yy)\n",
        "show(xxx, yy, w)\n"
      ],
      "execution_count": 33,
      "outputs": [
        {
          "output_type": "stream",
          "text": [
            "(3, 50) (1, 50)\n"
          ],
          "name": "stdout"
        },
        {
          "output_type": "display_data",
          "data": {
            "image/png": "[encoded data removed]",
            "text/plain": [
              "<Figure size 432x288 with 1 Axes>"
            ]
          },
          "metadata": {
            "tags": [],
            "needs_background": "light"
          }
        }
      ]
    },
    {
      "cell_type": "markdown",
      "metadata": {
        "id": "lnuj_ynMPyvZ",
        "colab_type": "text"
      },
      "source": [
        "<img src=\"https://drive.google.com/uc?id=12Ain53U4GehBQgCzY0AKtAtG6kkyfhc0\" width=\"600\">\n"
      ]
    },
    {
      "cell_type": "markdown",
      "metadata": {
        "id": "Pj3QFgizKZKR",
        "colab_type": "text"
      },
      "source": [
        "# Linear Regression (Using Tensorflow 2)\n",
        "Now let's use **tensorflow**. Some benefits of using tensorflow:\n",
        "\n",
        "\n",
        "*   We can create more complex models in it without doing some theory stuff like finding gradients by hand!\n",
        "*   Using some amazing optimizers.\n",
        "*   Extensive use in deep learning.\n",
        "\n"
      ]
    },
    {
      "cell_type": "code",
      "metadata": {
        "id": "Rwnh2pvpPNZ7",
        "colab_type": "code",
        "colab": {}
      },
      "source": [
        "X = tf.constant(x, dtype=tf.float32)\n",
        "Y = tf.constant(y, dtype=tf.float32)"
      ],
      "execution_count": 0,
      "outputs": []
    },
    {
      "cell_type": "code",
      "metadata": {
        "id": "1WROCYRRF6o_",
        "colab_type": "code",
        "colab": {}
      },
      "source": [
        "def tf_h(x, w):\n",
        "  x = tf.concat((tf.ones((1, x.shape[1])), x), 0)\n",
        "  return tf.matmul(w, x, True)"
      ],
      "execution_count": 0,
      "outputs": []
    },
    {
      "cell_type": "markdown",
      "metadata": {
        "id": "xRUg72z3O43w",
        "colab_type": "text"
      },
      "source": [
        "## Visualizing Data and Estimator Result"
      ]
    },
    {
      "cell_type": "code",
      "metadata": {
        "id": "PpgMF_vkO5rg",
        "colab_type": "code",
        "colab": {}
      },
      "source": [
        "def tf_show(x, y, w):\n",
        "  predicted = tf_h(x, w)\n",
        "  plt.figure()\n",
        "  plt.plot(x, y, 'rx')\n",
        "  plt.plot(x[0], predicted[0], 'b--o')\n",
        "  plt.show()\n",
        "\n",
        "W = tf.Variable(np.random.rand(2, 1), dtype=tf.float32)\n",
        "tf_show(X, Y, W)"
      ],
      "execution_count": 0,
      "outputs": []
    },
    {
      "cell_type": "code",
      "metadata": {
        "id": "qTYWdPqeV7Hm",
        "colab_type": "code",
        "colab": {}
      },
      "source": [
        "optimizer = tf.optimizers.Adam()\n",
        "\n",
        "def tf_loss(x, y, w):\n",
        "  e = y - tf_h(x, w)\n",
        "  return tf.matmul(e, e, transpose_b=True)\n",
        "\n",
        "def tf_cost(X, Y, W):\n",
        "  a = Y - tf_h(X, W)\n",
        "  return tf.matmul(a, a, transpose_b=True)/(2*X.shape[1])\n",
        "\n",
        "def tf_train_step(x, y, w, verbose=0):\n",
        "  with tf.GradientTape() as t:\n",
        "    J = tf_loss(x, y, w)\n",
        "    if verbose:\n",
        "      print('Loss: ',J)\n",
        "  w_grads = t.gradient(J, w)\n",
        "  optimizer.apply_gradients(zip([w_grads], [w]))\n",
        "  return w\n",
        "\n",
        "def tf_train(X, Y, max_iters=1000, min_cost=0.01, W=None, verbose=0):\n",
        "  if W is None:\n",
        "    W = tf.Variable(np.random.rand(2, 1), dtype=tf.float32)\n",
        "  for i in range(max_iters):\n",
        "    index = np.random.randint(0, x.shape[1])\n",
        "    tf_train_step(X[:, index:index+1], Y[:, index:index+1], W)\n",
        "    cost_value = tf_cost(X, Y, W).numpy()[0][0]\n",
        "    if verbose:\n",
        "      print('Cost: ', cost_value)\n",
        "    if cost_value < min_cost:\n",
        "      break\n",
        "  print(\"Training Done...\")\n",
        "  print(\"Cost: {}\".format(tf_cost(X, Y, W).numpy()[0][0]))\n",
        "  print(\"W = \", W)\n",
        "  return W\n",
        "  \n",
        "W = tf.Variable(np.random.rand(2, 1), dtype=tf.float32)\n",
        "index = np.random.randint(0, x.shape[1])\n",
        "print('Before: ', W.numpy().T)\n",
        "tf_train_step(X[:, index:index+1], Y[:, index:index+1], W)\n",
        "print('After: ', W.numpy().T)\n",
        "print('Cost: ', tf_cost(X, Y, W).numpy())\n"
      ],
      "execution_count": 0,
      "outputs": []
    },
    {
      "cell_type": "code",
      "metadata": {
        "id": "jHqRgHjDB25j",
        "colab_type": "code",
        "colab": {}
      },
      "source": [
        "W = tf_train(X, Y, W=W)"
      ],
      "execution_count": 0,
      "outputs": []
    },
    {
      "cell_type": "markdown",
      "metadata": {
        "id": "6_WEIsVNOs-M",
        "colab_type": "text"
      },
      "source": [
        "## Visualizing Performance\n"
      ]
    },
    {
      "cell_type": "code",
      "metadata": {
        "id": "qAwB3uEd98Ly",
        "colab_type": "code",
        "colab": {}
      },
      "source": [
        "tf_show(X, Y, W)"
      ],
      "execution_count": 0,
      "outputs": []
    },
    {
      "cell_type": "markdown",
      "metadata": {
        "id": "Ib5RbrFISRtp",
        "colab_type": "text"
      },
      "source": [
        "# California Housing Dataset\n"
      ]
    },
    {
      "cell_type": "code",
      "metadata": {
        "id": "ZfCylJszSVGQ",
        "colab_type": "code",
        "colab": {}
      },
      "source": [
        "ds = pd.read_csv('sample_data/california_housing_train.csv')"
      ],
      "execution_count": 0,
      "outputs": []
    },
    {
      "cell_type": "code",
      "metadata": {
        "id": "p19N6Rx_S3KQ",
        "colab_type": "code",
        "colab": {}
      },
      "source": [
        "ds.head()"
      ],
      "execution_count": 0,
      "outputs": []
    },
    {
      "cell_type": "code",
      "metadata": {
        "id": "ByAIN8G5XJ7P",
        "colab_type": "code",
        "colab": {}
      },
      "source": [
        "ds.describe()"
      ],
      "execution_count": 0,
      "outputs": []
    },
    {
      "cell_type": "code",
      "metadata": {
        "id": "ojGCW_8fXY-e",
        "colab_type": "code",
        "colab": {}
      },
      "source": [
        "m = ds.mean()\n",
        "s = ds.std()\n",
        "print('Mean:\\n', m)\n",
        "print('Standard Deviation:\\n', s)"
      ],
      "execution_count": 0,
      "outputs": []
    },
    {
      "cell_type": "markdown",
      "metadata": {
        "id": "okC6P9wyl7g5",
        "colab_type": "text"
      },
      "source": [
        "## Method 1\n",
        "In this method, we simply load the dataset and convert it to *tensors*. After that our life is made easy! we just use the previous functions we implemented by tensorflow.\n",
        "\n",
        "Now we separate inputs from targets."
      ]
    },
    {
      "cell_type": "code",
      "metadata": {
        "id": "DGa6IyjamNht",
        "colab_type": "code",
        "colab": {}
      },
      "source": [
        "ds_arr = np.transpose(np.array(ds))\n",
        "X = ds_arr[:-1, :]\n",
        "y = ds_arr[-1:, :]\n",
        "print(X.shape, y.shape)"
      ],
      "execution_count": 0,
      "outputs": []
    },
    {
      "cell_type": "markdown",
      "metadata": {
        "id": "JGucHyTroL9S",
        "colab_type": "text"
      },
      "source": [
        "Converting data to *tensors*"
      ]
    },
    {
      "cell_type": "code",
      "metadata": {
        "id": "Y5rhbem-mQ9Z",
        "colab_type": "code",
        "colab": {}
      },
      "source": [
        "X = tf.constant(X, dtype=tf.float32)\n",
        "y = tf.constant(y, dtype=tf.float32)\n",
        "W = tf.Variable(np.random.rand(X.shape[0]+1, 1), dtype=tf.float32)"
      ],
      "execution_count": 0,
      "outputs": []
    },
    {
      "cell_type": "markdown",
      "metadata": {
        "id": "zfDwzSNhoSLY",
        "colab_type": "text"
      },
      "source": [
        "Let's do the training now."
      ]
    },
    {
      "cell_type": "code",
      "metadata": {
        "id": "54V6ohvWmW8W",
        "colab_type": "code",
        "colab": {}
      },
      "source": [
        "W = tf_train(X, y, max_iters=10000, W=W, verbose=0)"
      ],
      "execution_count": 0,
      "outputs": []
    },
    {
      "cell_type": "markdown",
      "metadata": {
        "id": "-BJBlEtnoVD3",
        "colab_type": "text"
      },
      "source": [
        "Finally, we can see how well we did!"
      ]
    },
    {
      "cell_type": "code",
      "metadata": {
        "id": "DCmPEtoamaPs",
        "colab_type": "code",
        "colab": {}
      },
      "source": [
        "o = tf_h(X, W).numpy()\n",
        "for i in range(10):\n",
        "  print('No: {}'.format(i+1), '\\tTarget: {}'.format(ds_arr[-1, i]), '\\tPredicted: {}'.format(o[0, i]))"
      ],
      "execution_count": 0,
      "outputs": []
    },
    {
      "cell_type": "markdown",
      "metadata": {
        "id": "Q9YpnSICmvtT",
        "colab_type": "text"
      },
      "source": [
        "## Method 2\n",
        "In this method we do a little **preprocess**. We first **normalize** the dataset. This help faster convergence.\n",
        "\n",
        "Other steps are just like *method 1*."
      ]
    },
    {
      "cell_type": "code",
      "metadata": {
        "id": "-qQm6Q-vZAVd",
        "colab_type": "code",
        "colab": {}
      },
      "source": [
        "def normalize(ds):\n",
        "  mean = np.array(ds.mean())\n",
        "  mean = mean[np.newaxis, :]\n",
        "  std = np.array(ds.std())\n",
        "  std = std[np.newaxis, :]\n",
        "  X = np.array(ds)\n",
        "  X = (X-mean)/std\n",
        "  return X\n",
        "\n",
        "def denormalize(y, ds):\n",
        "  mean = np.array(ds.mean())[-1]\n",
        "  std = np.array(ds.std())[-1]\n",
        "  y = (y*std) + mean\n",
        "  return y"
      ],
      "execution_count": 0,
      "outputs": []
    },
    {
      "cell_type": "code",
      "metadata": {
        "id": "xmJUEGYgUxxv",
        "colab_type": "code",
        "colab": {}
      },
      "source": [
        "ds_arr = np.transpose(np.array(ds))\n",
        "normalized_ds_arr = np.transpose(normalize(ds))\n",
        "y = normalized_ds_arr[-1:, :]\n",
        "X = normalized_ds_arr[:-1, :]"
      ],
      "execution_count": 0,
      "outputs": []
    },
    {
      "cell_type": "code",
      "metadata": {
        "id": "RJvL5M6DV2LZ",
        "colab_type": "code",
        "colab": {}
      },
      "source": [
        "X = tf.constant(X, dtype=tf.float32)\n",
        "y = tf.constant(y, dtype=tf.float32)\n",
        "W = tf.Variable(np.random.rand(X.shape[0]+1, 1), dtype=tf.float32)"
      ],
      "execution_count": 0,
      "outputs": []
    },
    {
      "cell_type": "code",
      "metadata": {
        "id": "3LvuMuyAWQUA",
        "colab_type": "code",
        "colab": {}
      },
      "source": [
        "W = tf_train(X, y, max_iters=10000, W=W, verbose=0)"
      ],
      "execution_count": 0,
      "outputs": []
    },
    {
      "cell_type": "code",
      "metadata": {
        "id": "Y0yab8m9acwL",
        "colab_type": "code",
        "colab": {}
      },
      "source": [
        "o = tf_h(X, W).numpy()\n",
        "o = denormalize(o, ds)\n",
        "for i in range(10):\n",
        "  print('No: {}'.format(i+1), '\\tTarget: {}'.format(ds_arr[-1, i]), '\\tPredicted: {}'.format(o[0, i]))"
      ],
      "execution_count": 0,
      "outputs": []
    },
    {
      "cell_type": "code",
      "metadata": {
        "id": "wB8Myz0XnXMA",
        "colab_type": "code",
        "colab": {}
      },
      "source": [
        "def showOutputs(y, predicted, no=100):\n",
        "  x = np.arange(0, no)\n",
        "  y = y[0,:no]\n",
        "  predicted = predicted [0,:no]\n",
        "  print(y.shape, predicted.shape)\n",
        "  plt.figure()\n",
        "  plt.plot(x, y, 'rx')\n",
        "  plt.plot(x, predicted, 'b--o')\n",
        "  plt.show()\n",
        "\n",
        "showOutputs(ds_arr[-1:,:], o, 10)\n"
      ],
      "execution_count": 0,
      "outputs": []
    },
    {
      "cell_type": "markdown",
      "metadata": {
        "id": "JSzg_CXeQEUX",
        "colab_type": "text"
      },
      "source": [
        "<img src=\"https://drive.google.com/uc?id=1w9dinogGqiVM_7wg3FESNSdAQnempPOj\" width=\"400\">\n"
      ]
    }
  ]
}