{
  "nbformat": 4,
  "nbformat_minor": 0,
  "metadata": {
    "colab": {
      "name": "MLe-Lec0-Intro.ipynb",
      "provenance": [],
      "collapsed_sections": [],
      "authorship_tag": "ABX9TyNDAmKaxUFdykeH7NDJ++/n",
      "include_colab_link": true
    },
    "kernelspec": {
      "name": "python3",
      "display_name": "Python 3"
    }
  },
  "cells": [
    {
      "cell_type": "markdown",
      "metadata": {
        "id": "view-in-github",
        "colab_type": "text"
      },
      "source": [
        "<a href=\"https://colab.research.google.com/github/M-H-Amini/MachineLearning-AUT/blob/master/MLe_Lec0_Intro.ipynb\" target=\"_parent\"><img src=\"https://colab.research.google.com/assets/colab-badge.svg\" alt=\"Open In Colab\"/></a>"
      ]
    },
    {
      "cell_type": "markdown",
      "metadata": {
        "id": "5cPtAMSHjXhb",
        "colab_type": "text"
      },
      "source": [
        "# In The Name Of ALLAH\n",
        "# Machine Learning *elementary* Course\n",
        "## Amirkabir University of Technology\n",
        "### Mohammad Hossein Amini (mhamini@aut.ac.ir)\n",
        "# Lecture 0 - Intro\n",
        "\n",
        "<img src=\"https://drive.google.com/uc?id=144SDpgv7EEy6Og1ZFNIv_nBaugKGiSCE\" width=\"400\">\n",
        "\n"
      ]
    },
    {
      "cell_type": "markdown",
      "metadata": {
        "id": "IFF_jUOWlJjk",
        "colab_type": "text"
      },
      "source": [
        "# Basic Operations"
      ]
    },
    {
      "cell_type": "code",
      "metadata": {
        "id": "N-02BVsKjKry",
        "colab_type": "code",
        "colab": {}
      },
      "source": [
        "print('Hi there', 5, end='\\n')\n",
        "print('This is machine learning')\n",
        "#input('Enter a number:')"
      ],
      "execution_count": 0,
      "outputs": []
    },
    {
      "cell_type": "markdown",
      "metadata": {
        "id": "WryOVoQBlk3r",
        "colab_type": "text"
      },
      "source": [
        "# Variables"
      ]
    },
    {
      "cell_type": "code",
      "metadata": {
        "id": "p_htMK0Tlji1",
        "colab_type": "code",
        "colab": {}
      },
      "source": [
        "a = 4\n",
        "print(a, type(a))\n",
        "a = 4.5\n",
        "print(a, type(a))\n",
        "a = 'Hello'\n",
        "print(a, type(a))\n"
      ],
      "execution_count": 0,
      "outputs": []
    },
    {
      "cell_type": "markdown",
      "metadata": {
        "id": "8FY99NEvlxKy",
        "colab_type": "text"
      },
      "source": [
        "# Arrays"
      ]
    },
    {
      "cell_type": "code",
      "metadata": {
        "id": "ypebv6obl8db",
        "colab_type": "code",
        "colab": {}
      },
      "source": [
        "'''\n",
        "a = [10, 20]\n",
        "#print(a)\n",
        "#a.append(47)\n",
        "print(a)\n",
        "#print(len(a))\n",
        "b = [1, 2, 3]\n",
        "a.append(b)\n",
        "print(len(a))\n",
        "print(a)\n",
        "a.append('Hi')\n",
        "print(a[-1])\n",
        "c = a + b\n",
        "print(c)\n",
        "print(a)\n",
        "a.extend(b)\n",
        "print(a)\n",
        "\n",
        "a = (10, 20)\n",
        "print(a)\n",
        "print(a[0])\n",
        "b = (30, 40)\n",
        "c = a + b\n",
        "print(c)\n",
        "\n",
        "t1, t2 = a\n",
        "print(t2)\n",
        "'''\n",
        "\n",
        "grades = {'Behnam':0, 'MJ':20, 'MHA': 0}\n",
        "'''\n",
        "print(grades)\n",
        "print(grades.keys())\n",
        "print(grades.values())\n",
        "grades['AmirHossein'] = 20\n",
        "print(grades)\n",
        "'''\n",
        "my_keys = list(grades.keys())\n",
        "print(my_keys)\n",
        "my_values = list(grades.values())\n",
        "print(my_values)"
      ],
      "execution_count": 0,
      "outputs": []
    },
    {
      "cell_type": "markdown",
      "metadata": {
        "id": "fHMZ7qCZl9qw",
        "colab_type": "text"
      },
      "source": [
        "# Control Flows "
      ]
    },
    {
      "cell_type": "code",
      "metadata": {
        "id": "AMx9HGbvmXos",
        "colab_type": "code",
        "colab": {}
      },
      "source": [
        "'''\n",
        "grade = 17\n",
        "if grade>=17:\n",
        "  print('A')\n",
        "elif grade>=14:\n",
        "  print('B')\n",
        "else:\n",
        "  print('C')\n",
        "\n",
        "\n",
        "for i in range(0, 10, 2):\n",
        "  print(i, end=' ')\n",
        "'''\n",
        "'''\n",
        "while grade>10:\n",
        "  grade-=5\n",
        "  print(grade)\n",
        "'''\n",
        "numbers = [5, 1, 9]\n",
        "for i in numbers:\n",
        "  print(2*i)"
      ],
      "execution_count": 0,
      "outputs": []
    },
    {
      "cell_type": "markdown",
      "metadata": {
        "id": "yACatlndma_m",
        "colab_type": "text"
      },
      "source": [
        "# Functions"
      ]
    },
    {
      "cell_type": "code",
      "metadata": {
        "id": "rzKkJbqvm_hW",
        "colab_type": "code",
        "colab": {}
      },
      "source": [
        "'''\n",
        "def factors(x):\n",
        "  result = []\n",
        "  for i in range(1, x+1):\n",
        "    if x%i==0:\n",
        "      result.append(i)\n",
        "  return result\n",
        "\n",
        "def isPrime(x):\n",
        "  f = factors(x)\n",
        "  if len(f)==2:\n",
        "    return 1\n",
        "  return 0\n",
        "\n",
        "def primes(a, b):\n",
        "  result = []\n",
        "  for i in range(a, b+1):\n",
        "    if isPrime(i) == 1:\n",
        "      result.append(i)\n",
        "  return result\n",
        "\n",
        "print(primes(10, 100))\n",
        "'''\n",
        "def factors(x):\n",
        "  return [i for i in range(1, x+1) if not x%i]\n",
        "\n",
        "def isPrime(x):\n",
        "  return len(factors(x))==2, len(factors(x))\n",
        "\n",
        "def primes(a, b):\n",
        "  return [i for i in range(a, b+1) if isPrime(i)]\n",
        "\n",
        "is_prime, no = isPrime(10)\n",
        "print(is_prime)"
      ],
      "execution_count": 0,
      "outputs": []
    },
    {
      "cell_type": "markdown",
      "metadata": {
        "id": "qv9GIHDdS5EL",
        "colab_type": "text"
      },
      "source": [
        "# Classes"
      ]
    },
    {
      "cell_type": "code",
      "metadata": {
        "id": "FQPWmGNMS8jQ",
        "colab_type": "code",
        "colab": {}
      },
      "source": [
        "numbers = [5, 4, 8, 3, 28]\n",
        "\n",
        "class Dataset:\n",
        "  def __init__(self, ds):\n",
        "    self.ds = ds\n",
        "    print('Dataset created!!!')\n",
        "  \n",
        "  def show(self):\n",
        "    print(self.ds)\n",
        "\n",
        "  def mean(self):\n",
        "    return sum(self.ds)/len(self.ds)\n",
        "\n",
        "ds = Dataset(numbers)\n",
        "ds.show()\n",
        "print(ds.mean())"
      ],
      "execution_count": 0,
      "outputs": []
    },
    {
      "cell_type": "markdown",
      "metadata": {
        "id": "YyDzBXFbm-kk",
        "colab_type": "text"
      },
      "source": [
        "# Matplotlib"
      ]
    },
    {
      "cell_type": "code",
      "metadata": {
        "id": "In4KVMM9n-gW",
        "colab_type": "code",
        "colab": {}
      },
      "source": [
        "import matplotlib.pyplot as plt\n",
        "\n",
        "x = [1, 2, 3.5, 5]\n",
        "y = [i*i -1.5 * i for i in x]\n",
        "\n",
        "plt.figure()\n",
        "plt.plot(x, y, 'r--x')\n",
        "plt.title('AUT')\n",
        "plt.xlabel('Input')\n",
        "plt.ylabel('Output')\n",
        "plt.xticks([1, 4.2])\n",
        "plt.grid()\n",
        "plt.show()"
      ],
      "execution_count": 0,
      "outputs": []
    },
    {
      "cell_type": "markdown",
      "metadata": {
        "id": "kqpsrIYZn-45",
        "colab_type": "text"
      },
      "source": [
        "# Numpy\n"
      ]
    },
    {
      "cell_type": "code",
      "metadata": {
        "id": "jK2GEX01oSSB",
        "colab_type": "code",
        "colab": {}
      },
      "source": [
        "import numpy as np\n",
        "\n",
        "'''\n",
        "a = [1, 2, 3]\n",
        "arr1 = np.array(a)\n",
        "print(arr1.shape)\n",
        "arr2 = np.array([4, 5, 6])\n",
        "print(np.dot(arr1, arr2))\n",
        "\n",
        "A = np.array([[1, 2, 3]])\n",
        "#B = np.array([[1], [2], [3]])\n",
        "B = np.transpose(A)\n",
        "print(B)\n",
        "print(B.shape)\n",
        "C = np.dot(B, A)\n",
        "print(C)\n",
        "\n",
        "A = np.eye(5)\n",
        "#print(A)\n",
        "B = np.zeros((3, 3))\n",
        "#print(B)\n",
        "C = np.ones((3, 3))\n",
        "#print(C)\n",
        "D = np.random.rand(5, 5)\n",
        "print(D)\n",
        "evals, evecs = np.linalg.eig(D)\n",
        "\n",
        "A = np.zeros((3, 3))\n",
        "print(A)\n",
        "b = np.transpose(np.array([[1, 2, 3]]))\n",
        "print(b)\n",
        "C = A + b\n",
        "print(C)\n",
        "'''\n",
        "\n",
        "a = np.random.rand(1000000)\n",
        "b = np.random.rand(1000000)\n",
        "import time\n",
        "\n",
        "\n",
        "result = 0\n",
        "t0 = time.time()\n",
        "for i in range(a.shape[0]):\n",
        "  result +=a [i] * b[i]\n",
        "t1 = time.time()\n",
        "print(result, 'It took {} seconds!'.format(t1-t0))\n",
        "\n",
        "t0 = time.time()\n",
        "result = np.dot(a, b)\n",
        "t1 = time.time()\n",
        "print(result, 'It took {} seconds!'.format(t1-t0))\n"
      ],
      "execution_count": 0,
      "outputs": []
    },
    {
      "cell_type": "markdown",
      "metadata": {
        "id": "N7cBSUHPoWCL",
        "colab_type": "text"
      },
      "source": [
        "# Pandas"
      ]
    },
    {
      "cell_type": "code",
      "metadata": {
        "id": "gsaLqdL8oZ9V",
        "colab_type": "code",
        "colab": {}
      },
      "source": [
        "import pandas as pd\n",
        "\n",
        "ds = pd.read_csv('list_attr_celeba.csv')\n",
        "features = list(ds.columns)\n",
        "#print(features)\n",
        "\n",
        "b = np.array(ds['Bald'])\n",
        "#print(b.shape)\n",
        "\n",
        "d = ds.describe()\n",
        "print(d)\n"
      ],
      "execution_count": 0,
      "outputs": []
    }
  ]
}